{
 "cells": [
  {
   "cell_type": "code",
   "outputs": [],
   "source": [
    "import findspark\n",
    "findspark.init()"
   ],
   "metadata": {
    "collapsed": false,
    "ExecuteTime": {
     "end_time": "2024-05-30T07:12:27.742524500Z",
     "start_time": "2024-05-30T07:12:27.541409300Z"
    }
   },
   "id": "e30724970e83245d",
   "execution_count": 2
  },
  {
   "cell_type": "code",
   "execution_count": 160,
   "id": "cd25b4f6-79a9-46f8-a761-be6f89a8369a",
   "metadata": {
    "ExecuteTime": {
     "end_time": "2024-05-30T09:09:25.630637700Z",
     "start_time": "2024-05-30T09:09:25.607609400Z"
    }
   },
   "outputs": [],
   "source": [
    "from pyspark.sql import SparkSession\n",
    "from pyspark.ml.feature import VectorAssembler, OneHotEncoder, PCA, VectorSlicer, RobustScaler, StandardScaler\n",
    "from pyspark.ml.classification import RandomForestClassifier\n",
    "from pyspark.ml.evaluation import BinaryClassificationEvaluator, ClusteringEvaluator\n",
    "from pyspark.ml.clustering import KMeans\n",
    "from pyspark.sql.window import Window\n",
    "from pyspark.sql import functions as F\n",
    "from pyspark.ml import Pipeline\n",
    "from pyspark.sql.types import FloatType\n",
    "\n",
    "import pandas as pd\n",
    "\n",
    "from matplotlib import pyplot as plt"
   ]
  },
  {
   "cell_type": "markdown",
   "source": [
    "### Загрузим данные"
   ],
   "metadata": {
    "collapsed": false
   },
   "id": "9186875f6406fc6a"
  },
  {
   "cell_type": "code",
   "outputs": [],
   "source": [
    "spark = SparkSession.builder.appName(\"credit_cards\").master('local[*]').getOrCreate()"
   ],
   "metadata": {
    "collapsed": false,
    "ExecuteTime": {
     "end_time": "2024-05-30T09:33:28.135378100Z",
     "start_time": "2024-05-30T09:33:28.103414400Z"
    }
   },
   "id": "84ea7aeda3287f9",
   "execution_count": 204
  },
  {
   "cell_type": "code",
   "outputs": [],
   "source": [
    "data = spark.read.csv('creditcard.csv', header=True, inferSchema=True)"
   ],
   "metadata": {
    "collapsed": false,
    "ExecuteTime": {
     "end_time": "2024-05-30T09:33:30.437538800Z",
     "start_time": "2024-05-30T09:33:28.484770600Z"
    }
   },
   "id": "8a0665986fe9ed39",
   "execution_count": 205
  },
  {
   "cell_type": "code",
   "outputs": [
    {
     "name": "stdout",
     "output_type": "stream",
     "text": [
      "+----+------------------+-------------------+------------------+------------------+-------------------+-------------------+--------------------+------------------+------------------+-------------------+------------------+------------------+------------------+------------------+------------------+------------------+-------------------+-------------------+-------------------+-------------------+--------------------+-------------------+-------------------+------------------+------------------+------------------+--------------------+-------------------+------+-----+\n",
      "|Time|                V1|                 V2|                V3|                V4|                 V5|                 V6|                  V7|                V8|                V9|                V10|               V11|               V12|               V13|               V14|               V15|               V16|                V17|                V18|                V19|                V20|                 V21|                V22|                V23|               V24|               V25|               V26|                 V27|                V28|Amount|Class|\n",
      "+----+------------------+-------------------+------------------+------------------+-------------------+-------------------+--------------------+------------------+------------------+-------------------+------------------+------------------+------------------+------------------+------------------+------------------+-------------------+-------------------+-------------------+-------------------+--------------------+-------------------+-------------------+------------------+------------------+------------------+--------------------+-------------------+------+-----+\n",
      "| 0.0|  -1.3598071336738|-0.0727811733098497|  2.53634673796914|  1.37815522427443| -0.338320769942518|  0.462387777762292|   0.239598554061257|0.0986979012610507| 0.363786969611213| 0.0907941719789316|-0.551599533260813|-0.617800855762348|-0.991389847235408|-0.311169353699879|  1.46817697209427|-0.470400525259478|  0.207971241929242| 0.0257905801985591|  0.403992960255733|  0.251412098239705|  -0.018306777944153|  0.277837575558899| -0.110473910188767|0.0669280749146731| 0.128539358273528|-0.189114843888824|   0.133558376740387|-0.0210530534538215|149.62|    0|\n",
      "| 0.0|  1.19185711131486|   0.26615071205963|  0.16648011335321| 0.448154078460911| 0.0600176492822243|-0.0823608088155687| -0.0788029833323113|0.0851016549148104|-0.255425128109186| -0.166974414004614|  1.61272666105479|  1.06523531137287|  0.48909501589608|-0.143772296441519| 0.635558093258208| 0.463917041022171| -0.114804663102346| -0.183361270123994| -0.145783041325259|-0.0690831352230203|  -0.225775248033138| -0.638671952771851|  0.101288021253234|-0.339846475529127| 0.167170404418143| 0.125894532368176|-0.00898309914322813| 0.0147241691924927|  2.69|    0|\n",
      "| 1.0| -1.35835406159823|  -1.34016307473609|  1.77320934263119| 0.379779593034328| -0.503198133318193|   1.80049938079263|   0.791460956450422| 0.247675786588991| -1.51465432260583|  0.207642865216696| 0.624501459424895| 0.066083685268831| 0.717292731410831|-0.165945922763554|  2.34586494901581| -2.89008319444231|   1.10996937869599| -0.121359313195888|  -2.26185709530414|  0.524979725224404|   0.247998153469754|  0.771679401917229|  0.909412262347719|-0.689280956490685|-0.327641833735251|-0.139096571514147| -0.0553527940384261|-0.0597518405929204|378.66|    0|\n",
      "| 1.0|-0.966271711572087| -0.185226008082898|  1.79299333957872|-0.863291275036453|-0.0103088796030823|   1.24720316752486|    0.23760893977178| 0.377435874652262| -1.38702406270197|-0.0549519224713749|-0.226487263835401| 0.178228225877303| 0.507756869957169| -0.28792374549456|-0.631418117709045|  -1.0596472454325| -0.684092786345479|   1.96577500349538|   -1.2326219700892| -0.208037781160366|  -0.108300452035545|0.00527359678253453| -0.190320518742841| -1.17557533186321| 0.647376034602038|-0.221928844458407|  0.0627228487293033| 0.0614576285006353| 123.5|    0|\n",
      "| 2.0| -1.15823309349523|  0.877736754848451|    1.548717846511| 0.403033933955121| -0.407193377311653| 0.0959214624684256|   0.592940745385545|-0.270532677192282| 0.817739308235294|  0.753074431976354|-0.822842877946363|  0.53819555014995|   1.3458515932154| -1.11966983471731| 0.175121130008994|-0.451449182813529| -0.237033239362776|-0.0381947870352842|  0.803486924960175|  0.408542360392758|-0.00943069713232919|   0.79827849458971| -0.137458079619063| 0.141266983824769|-0.206009587619756| 0.502292224181569|   0.219422229513348|  0.215153147499206| 69.99|    0|\n",
      "| 2.0|-0.425965884412454|  0.960523044882985|  1.14110934232219|-0.168252079760302|   0.42098688077219|-0.0297275516639742|   0.476200948720027| 0.260314333074874| -0.56867137571251| -0.371407196834471|  1.34126198001957| 0.359893837038039|-0.358090652573631|-0.137133700217612| 0.517616806555742| 0.401725895589603|-0.0581328233640131| 0.0686531494425432|-0.0331937877876282| 0.0849676720682049|  -0.208253514656728| -0.559824796253248|-0.0263976679795373|-0.371426583174346|-0.232793816737034| 0.105914779097957|   0.253844224739337| 0.0810802569229443|  3.67|    0|\n",
      "| 4.0|  1.22965763450793|  0.141003507049326|0.0453707735899449|  1.20261273673594|  0.191880988597645|  0.272708122899098|-0.00515900288250983|0.0812129398830894| 0.464959994783886|-0.0992543211289237| -1.41690724314928|-0.153825826253651| -0.75106271556262|  0.16737196252175|0.0501435942254188|-0.443586797916727|0.00282051247234708|  -0.61198733994012|-0.0455750446637976|  -0.21963255278686|  -0.167716265815783| -0.270709726172363| -0.154103786809305|-0.780055415004671|  0.75013693580659|-0.257236845917139|  0.0345074297438413|0.00516776890624916|  4.99|    0|\n",
      "+----+------------------+-------------------+------------------+------------------+-------------------+-------------------+--------------------+------------------+------------------+-------------------+------------------+------------------+------------------+------------------+------------------+------------------+-------------------+-------------------+-------------------+-------------------+--------------------+-------------------+-------------------+------------------+------------------+------------------+--------------------+-------------------+------+-----+\n"
     ]
    }
   ],
   "source": [
    "data.show(n=7)"
   ],
   "metadata": {
    "collapsed": false,
    "ExecuteTime": {
     "end_time": "2024-05-30T07:12:50.870842300Z",
     "start_time": "2024-05-30T07:12:49.808019600Z"
    }
   },
   "id": "26d1660ddf14f7a9",
   "execution_count": 6
  },
  {
   "cell_type": "markdown",
   "source": [
    "### 1. Сначала построим бинарную классификацию, основанную на всех признаках"
   ],
   "metadata": {
    "collapsed": false
   },
   "id": "abf366085f3a8131"
  },
  {
   "cell_type": "code",
   "outputs": [
    {
     "name": "stdout",
     "output_type": "stream",
     "text": [
      "+----+------------------+-------------------+----------------+------------------+-------------------+-------------------+-------------------+------------------+------------------+-------------------+------------------+------------------+------------------+------------------+------------------+------------------+------------------+-------------------+------------------+-------------------+--------------------+-------------------+------------------+------------------+------------------+------------------+--------------------+-------------------+------+-----+--------------------+\n",
      "|Time|                V1|                 V2|              V3|                V4|                 V5|                 V6|                 V7|                V8|                V9|                V10|               V11|               V12|               V13|               V14|               V15|               V16|               V17|                V18|               V19|                V20|                 V21|                V22|               V23|               V24|               V25|               V26|                 V27|                V28|Amount|Class|             weights|\n",
      "+----+------------------+-------------------+----------------+------------------+-------------------+-------------------+-------------------+------------------+------------------+-------------------+------------------+------------------+------------------+------------------+------------------+------------------+------------------+-------------------+------------------+-------------------+--------------------+-------------------+------------------+------------------+------------------+------------------+--------------------+-------------------+------+-----+--------------------+\n",
      "| 0.0|  -1.3598071336738|-0.0727811733098497|2.53634673796914|  1.37815522427443| -0.338320769942518|  0.462387777762292|  0.239598554061257|0.0986979012610507| 0.363786969611213| 0.0907941719789316|-0.551599533260813|-0.617800855762348|-0.991389847235408|-0.311169353699879|  1.46817697209427|-0.470400525259478| 0.207971241929242| 0.0257905801985591| 0.403992960255733|  0.251412098239705|  -0.018306777944153|  0.277837575558899|-0.110473910188767|0.0669280749146731| 0.128539358273528|-0.189114843888824|   0.133558376740387|-0.0210530534538215|149.62|    0|0.001727485630620...|\n",
      "| 0.0|  1.19185711131486|   0.26615071205963|0.16648011335321| 0.448154078460911| 0.0600176492822243|-0.0823608088155687|-0.0788029833323113|0.0851016549148104|-0.255425128109186| -0.166974414004614|  1.61272666105479|  1.06523531137287|  0.48909501589608|-0.143772296441519| 0.635558093258208| 0.463917041022171|-0.114804663102346| -0.183361270123994|-0.145783041325259|-0.0690831352230203|  -0.225775248033138| -0.638671952771851| 0.101288021253234|-0.339846475529127| 0.167170404418143| 0.125894532368176|-0.00898309914322813| 0.0147241691924927|  2.69|    0|0.001727485630620...|\n",
      "| 1.0| -1.35835406159823|  -1.34016307473609|1.77320934263119| 0.379779593034328| -0.503198133318193|   1.80049938079263|  0.791460956450422| 0.247675786588991| -1.51465432260583|  0.207642865216696| 0.624501459424895| 0.066083685268831| 0.717292731410831|-0.165945922763554|  2.34586494901581| -2.89008319444231|  1.10996937869599| -0.121359313195888| -2.26185709530414|  0.524979725224404|   0.247998153469754|  0.771679401917229| 0.909412262347719|-0.689280956490685|-0.327641833735251|-0.139096571514147| -0.0553527940384261|-0.0597518405929204|378.66|    0|0.001727485630620...|\n",
      "| 1.0|-0.966271711572087| -0.185226008082898|1.79299333957872|-0.863291275036453|-0.0103088796030823|   1.24720316752486|   0.23760893977178| 0.377435874652262| -1.38702406270197|-0.0549519224713749|-0.226487263835401| 0.178228225877303| 0.507756869957169| -0.28792374549456|-0.631418117709045|  -1.0596472454325|-0.684092786345479|   1.96577500349538|  -1.2326219700892| -0.208037781160366|  -0.108300452035545|0.00527359678253453|-0.190320518742841| -1.17557533186321| 0.647376034602038|-0.221928844458407|  0.0627228487293033| 0.0614576285006353| 123.5|    0|0.001727485630620...|\n",
      "| 2.0| -1.15823309349523|  0.877736754848451|  1.548717846511| 0.403033933955121| -0.407193377311653| 0.0959214624684256|  0.592940745385545|-0.270532677192282| 0.817739308235294|  0.753074431976354|-0.822842877946363|  0.53819555014995|   1.3458515932154| -1.11966983471731| 0.175121130008994|-0.451449182813529|-0.237033239362776|-0.0381947870352842| 0.803486924960175|  0.408542360392758|-0.00943069713232919|   0.79827849458971|-0.137458079619063| 0.141266983824769|-0.206009587619756| 0.502292224181569|   0.219422229513348|  0.215153147499206| 69.99|    0|0.001727485630620...|\n",
      "+----+------------------+-------------------+----------------+------------------+-------------------+-------------------+-------------------+------------------+------------------+-------------------+------------------+------------------+------------------+------------------+------------------+------------------+------------------+-------------------+------------------+-------------------+--------------------+-------------------+------------------+------------------+------------------+------------------+--------------------+-------------------+------+-----+--------------------+\n"
     ]
    }
   ],
   "source": [
    "# Добавим столбец, в котором будет частота каждого класса, вычтенная из единицы\n",
    "window = Window.partitionBy('Class')\n",
    "data = data.withColumn('weights', 1 - F.count('Class').over(window) / data.count())\n",
    "data.show(n=5)"
   ],
   "metadata": {
    "collapsed": false,
    "ExecuteTime": {
     "end_time": "2024-05-30T09:33:36.993871200Z",
     "start_time": "2024-05-30T09:33:34.064947200Z"
    }
   },
   "id": "e2512f76ef526e0f",
   "execution_count": 206
  },
  {
   "cell_type": "code",
   "outputs": [],
   "source": [
    "# Используемые фичи для классификации\n",
    "features = data.columns[:-2]"
   ],
   "metadata": {
    "collapsed": false,
    "ExecuteTime": {
     "end_time": "2024-05-30T07:12:56.189123200Z",
     "start_time": "2024-05-30T07:12:56.078207900Z"
    }
   },
   "id": "a2925b6796de046b",
   "execution_count": 8
  },
  {
   "cell_type": "code",
   "outputs": [],
   "source": [
    "# Векторизуем признаки\n",
    "vector_assembler = VectorAssembler(inputCols=features, outputCol='features')\n",
    "data_with_features = vector_assembler.transform(data)"
   ],
   "metadata": {
    "collapsed": false,
    "ExecuteTime": {
     "end_time": "2024-05-30T07:12:56.535350800Z",
     "start_time": "2024-05-30T07:12:56.129702400Z"
    }
   },
   "id": "d91703a1b3b6ed77",
   "execution_count": 9
  },
  {
   "cell_type": "code",
   "outputs": [],
   "source": [
    "# Поделим на обучающую и тестовую выборки\n",
    "train, test = data_with_features.randomSplit([0.8, 0.2], seed=123)"
   ],
   "metadata": {
    "collapsed": false,
    "ExecuteTime": {
     "end_time": "2024-05-30T07:12:56.618667Z",
     "start_time": "2024-05-30T07:12:56.545551100Z"
    }
   },
   "id": "b6b0cfa5a11d4175",
   "execution_count": 10
  },
  {
   "cell_type": "code",
   "outputs": [],
   "source": [
    "# Инициализируем и обучим случайный лес\n",
    "rf = RandomForestClassifier(featuresCol='features', labelCol='Class', predictionCol='predictions', weightCol='weights', seed=123).fit(train)"
   ],
   "metadata": {
    "collapsed": false,
    "ExecuteTime": {
     "end_time": "2024-05-30T07:13:28.492065Z",
     "start_time": "2024-05-30T07:12:56.628063200Z"
    }
   },
   "id": "244fc107cc15da2e",
   "execution_count": 11
  },
  {
   "cell_type": "code",
   "outputs": [],
   "source": [
    "# Сделаем предсказания на тестовой выборке\n",
    "predictions = rf.transform(test)"
   ],
   "metadata": {
    "collapsed": false,
    "ExecuteTime": {
     "end_time": "2024-05-30T07:13:28.671136700Z",
     "start_time": "2024-05-30T07:13:28.497800100Z"
    }
   },
   "id": "4cecf589c6afd2ad",
   "execution_count": 12
  },
  {
   "cell_type": "code",
   "outputs": [
    {
     "name": "stdout",
     "output_type": "stream",
     "text": [
      "+-----------+-----+-----+\n",
      "|predictions|Class|count|\n",
      "+-----------+-----+-----+\n",
      "|        0.0|    0|56647|\n",
      "|        1.0|    0|  240|\n",
      "|        0.0|    1|   17|\n",
      "|        1.0|    1|   76|\n",
      "+-----------+-----+-----+\n"
     ]
    }
   ],
   "source": [
    "# Confusion matrix\n",
    "predictions.groupBy('predictions', 'Class').count().show()"
   ],
   "metadata": {
    "collapsed": false,
    "ExecuteTime": {
     "end_time": "2024-05-30T07:13:32.409698900Z",
     "start_time": "2024-05-30T07:13:28.672293300Z"
    }
   },
   "id": "4c10a5fc14f3060a",
   "execution_count": 13
  },
  {
   "cell_type": "code",
   "outputs": [
    {
     "name": "stdout",
     "output_type": "stream",
     "text": [
      "0.9064927054974672\n"
     ]
    }
   ],
   "source": [
    "print(BinaryClassificationEvaluator(labelCol='Class', rawPredictionCol='predictions', metricName='areaUnderROC').evaluate(predictions))"
   ],
   "metadata": {
    "collapsed": false,
    "ExecuteTime": {
     "end_time": "2024-05-30T07:13:38.033065500Z",
     "start_time": "2024-05-30T07:13:32.413191500Z"
    }
   },
   "id": "39453c4c1625dcfe",
   "execution_count": 14
  },
  {
   "cell_type": "code",
   "outputs": [
    {
     "data": {
      "text/plain": "Time      0.000530\nV1        0.003853\nV2        0.002976\nV3        0.011482\nV4        0.098154\nV5        0.001636\nV6        0.005632\nV7        0.031611\nV8        0.001969\nV9        0.052898\nV10       0.181439\nV11       0.010659\nV12       0.095061\nV13       0.003460\nV14       0.309033\nV15       0.001424\nV16       0.059222\nV17       0.093683\nV18       0.000947\nV19       0.005072\nV20       0.006865\nV21       0.006030\nV22       0.003820\nV23       0.002034\nV24       0.001716\nV25       0.000441\nV26       0.001649\nV27       0.000851\nV28       0.001742\nAmount    0.004110\ndtype: float64"
     },
     "execution_count": 15,
     "metadata": {},
     "output_type": "execute_result"
    }
   ],
   "source": [
    "# Feature importance\n",
    "pd.Series(rf.featureImportances.toArray(), index=features)"
   ],
   "metadata": {
    "collapsed": false,
    "ExecuteTime": {
     "end_time": "2024-05-30T07:13:38.344769Z",
     "start_time": "2024-05-30T07:13:38.037529300Z"
    }
   },
   "id": "199be865db10fb84",
   "execution_count": 15
  },
  {
   "cell_type": "markdown",
   "source": [
    "### 2. Далее кластеризуем данные по V-признакам"
   ],
   "metadata": {
    "collapsed": false
   },
   "id": "efb585fad9c2c8c9"
  },
  {
   "cell_type": "code",
   "outputs": [],
   "source": [
    "features_for_cluster = data.columns[1:-2]"
   ],
   "metadata": {
    "collapsed": false,
    "ExecuteTime": {
     "end_time": "2024-05-30T07:13:38.348132900Z",
     "start_time": "2024-05-30T07:13:38.342474700Z"
    }
   },
   "id": "edb0a7f0f2c46542",
   "execution_count": 16
  },
  {
   "cell_type": "code",
   "outputs": [],
   "source": [
    "assembler_for_cluster = VectorAssembler(inputCols=features_for_cluster, outputCol='features')\n",
    "data_for_cluster = assembler_for_cluster.transform(data)"
   ],
   "metadata": {
    "collapsed": false,
    "ExecuteTime": {
     "end_time": "2024-05-30T07:13:38.464071700Z",
     "start_time": "2024-05-30T07:13:38.349312900Z"
    }
   },
   "id": "6cdb6967b260248d",
   "execution_count": 17
  },
  {
   "cell_type": "markdown",
   "source": [
    "### Здесь нам ничего не остается, кроме как подобрать количество кластеров через коэффициент силуэта"
   ],
   "metadata": {
    "collapsed": false
   },
   "id": "4501b9bdd5f8d7a7"
  },
  {
   "cell_type": "code",
   "outputs": [],
   "source": [
    "silhouette_score = []\n",
    "\n",
    "cluster_evaluator = ClusteringEvaluator(predictionCol='cluster', metricName='silhouette', featuresCol='features',\n",
    "                                        distanceMeasure='squaredEuclidean')"
   ],
   "metadata": {
    "collapsed": false,
    "ExecuteTime": {
     "end_time": "2024-05-30T07:13:38.532817800Z",
     "start_time": "2024-05-30T07:13:38.478152900Z"
    }
   },
   "id": "e847cda8d27bc36a",
   "execution_count": 18
  },
  {
   "cell_type": "code",
   "outputs": [],
   "source": [
    "for i in range(2, 25):\n",
    "    kmeans_model = KMeans(featuresCol='features', initMode='k-means||', k=i, predictionCol='cluster').fit(data_for_cluster)\n",
    "    predictions = kmeans_model.transform(data_for_cluster)\n",
    "    score = cluster_evaluator.evaluate(predictions)\n",
    "    silhouette_score.append(score)\n"
   ],
   "metadata": {
    "collapsed": false,
    "ExecuteTime": {
     "end_time": "2024-05-30T07:18:12.275477300Z",
     "start_time": "2024-05-30T07:13:38.503767100Z"
    }
   },
   "id": "a111a15a28d2c19b",
   "execution_count": 19
  },
  {
   "cell_type": "code",
   "outputs": [
    {
     "data": {
      "text/plain": "<Figure size 640x480 with 1 Axes>",
      "image/png": "[encoded data removed]"
     },
     "metadata": {},
     "output_type": "display_data"
    }
   ],
   "source": [
    "plt.plot(range(2, 25), silhouette_score)\n",
    "plt.xlabel('k')\n",
    "plt.ylabel('silhouette score')\n",
    "plt.title('Silhouette Score')\n",
    "plt.show()"
   ],
   "metadata": {
    "collapsed": false,
    "ExecuteTime": {
     "end_time": "2024-05-30T07:18:12.617749500Z",
     "start_time": "2024-05-30T07:18:12.266519100Z"
    }
   },
   "id": "ca4f11b8668e1a01",
   "execution_count": 20
  },
  {
   "cell_type": "code",
   "outputs": [],
   "source": [
    "# Выберем k=12\n",
    "kmeans_model = KMeans(featuresCol='features', initMode='k-means||', k=12, predictionCol='cluster').fit(data_for_cluster)"
   ],
   "metadata": {
    "collapsed": false,
    "ExecuteTime": {
     "end_time": "2024-05-30T07:18:20.614094900Z",
     "start_time": "2024-05-30T07:18:12.609736400Z"
    }
   },
   "id": "c5d75e4ff7f28358",
   "execution_count": 21
  },
  {
   "cell_type": "code",
   "outputs": [],
   "source": [
    "data_with_clusters = kmeans_model.transform(data_for_cluster)"
   ],
   "metadata": {
    "collapsed": false,
    "ExecuteTime": {
     "end_time": "2024-05-30T07:18:20.682183700Z",
     "start_time": "2024-05-30T07:18:20.617580300Z"
    }
   },
   "id": "75cf3329721be735",
   "execution_count": 22
  },
  {
   "cell_type": "code",
   "outputs": [
    {
     "name": "stderr",
     "output_type": "stream",
     "text": [
      "C:\\Users\\User\\AppData\\Local\\Temp\\ipykernel_12604\\2464377994.py:14: UserWarning: FigureCanvasAgg is non-interactive, and thus cannot be shown\n",
      "  fig.show()\n"
     ]
    },
    {
     "data": {
      "text/plain": "<Figure size 640x480 with 1 Axes>",
      "image/png": "[encoded data removed]"
     },
     "metadata": {},
     "output_type": "display_data"
    }
   ],
   "source": [
    "# Визуализируем кластеры в проекции на V5-V13\n",
    "data_pd = data_with_clusters.toPandas()\n",
    "\n",
    "fig = plt.figure()\n",
    "ax = fig.add_subplot(111)\n",
    "\n",
    "for i in range(12):\n",
    "    data_plot = data_pd[data_pd['cluster'] == i]\n",
    "    ax.scatter(x=data_plot['V13'], y=data_plot['V5'], label=i)\n",
    "ax.legend()\n",
    "ax.set_title('Clustered Data')\n",
    "ax.set_xlabel('V13')\n",
    "ax.set_ylabel('V5')\n",
    "fig.show()"
   ],
   "metadata": {
    "collapsed": false,
    "ExecuteTime": {
     "end_time": "2024-05-30T07:18:41.226869500Z",
     "start_time": "2024-05-30T07:18:20.686729300Z"
    }
   },
   "id": "c17b49aa0ead762a",
   "execution_count": 23
  },
  {
   "cell_type": "markdown",
   "source": [
    "### 3. Наконец, попробуем построить модель классификации с использованием кластеров"
   ],
   "metadata": {
    "collapsed": false
   },
   "id": "4d965ef65a4911c7"
  },
  {
   "cell_type": "code",
   "outputs": [],
   "source": [
    "# Сначала сделаем One-Hot vectors из признака cluster\n",
    "features_one_hot = data_with_clusters.columns[:-3] + data_with_clusters.columns[-1:] + data_with_clusters.columns[-3:-2]\n",
    "data_second = data_with_clusters.select(features_one_hot)\n",
    "one_hot_model = OneHotEncoder(inputCol='cluster', outputCol='one_hot_cluster', dropLast=False).fit(data_second)\n",
    "one_hot_data = one_hot_model.transform(data_second)"
   ],
   "metadata": {
    "collapsed": false,
    "ExecuteTime": {
     "end_time": "2024-05-30T07:18:41.622988700Z",
     "start_time": "2024-05-30T07:18:41.340164600Z"
    }
   },
   "id": "9913d5fd170bf3c5",
   "execution_count": 24
  },
  {
   "cell_type": "code",
   "outputs": [
    {
     "name": "stdout",
     "output_type": "stream",
     "text": [
      "+----+-----------------+-------------------+----------------+-----------------+------------------+-------------------+-------------------+------------------+------------------+------------------+------------------+------------------+------------------+------------------+-----------------+------------------+------------------+------------------+------------------+-------------------+------------------+------------------+------------------+------------------+------------------+------------------+--------------------+-------------------+------+-----+-------+--------------------+---------------+\n",
      "|Time|               V1|                 V2|              V3|               V4|                V5|                 V6|                 V7|                V8|                V9|               V10|               V11|               V12|               V13|               V14|              V15|               V16|               V17|               V18|               V19|                V20|               V21|               V22|               V23|               V24|               V25|               V26|                 V27|                V28|Amount|Class|cluster|             weights|one_hot_cluster|\n",
      "+----+-----------------+-------------------+----------------+-----------------+------------------+-------------------+-------------------+------------------+------------------+------------------+------------------+------------------+------------------+------------------+-----------------+------------------+------------------+------------------+------------------+-------------------+------------------+------------------+------------------+------------------+------------------+------------------+--------------------+-------------------+------+-----+-------+--------------------+---------------+\n",
      "| 0.0| -1.3598071336738|-0.0727811733098497|2.53634673796914| 1.37815522427443|-0.338320769942518|  0.462387777762292|  0.239598554061257|0.0986979012610507| 0.363786969611213|0.0907941719789316|-0.551599533260813|-0.617800855762348|-0.991389847235408|-0.311169353699879| 1.46817697209427|-0.470400525259478| 0.207971241929242|0.0257905801985591| 0.403992960255733|  0.251412098239705|-0.018306777944153| 0.277837575558899|-0.110473910188767|0.0669280749146731| 0.128539358273528|-0.189114843888824|   0.133558376740387|-0.0210530534538215|149.62|    0|      7|0.001727485630620...| (12,[7],[1.0])|\n",
      "| 0.0| 1.19185711131486|   0.26615071205963|0.16648011335321|0.448154078460911|0.0600176492822243|-0.0823608088155687|-0.0788029833323113|0.0851016549148104|-0.255425128109186|-0.166974414004614|  1.61272666105479|  1.06523531137287|  0.48909501589608|-0.143772296441519|0.635558093258208| 0.463917041022171|-0.114804663102346|-0.183361270123994|-0.145783041325259|-0.0690831352230203|-0.225775248033138|-0.638671952771851| 0.101288021253234|-0.339846475529127| 0.167170404418143| 0.125894532368176|-0.00898309914322813| 0.0147241691924927|  2.69|    0|      5|0.001727485630620...| (12,[5],[1.0])|\n",
      "| 1.0|-1.35835406159823|  -1.34016307473609|1.77320934263119|0.379779593034328|-0.503198133318193|   1.80049938079263|  0.791460956450422| 0.247675786588991| -1.51465432260583| 0.207642865216696| 0.624501459424895| 0.066083685268831| 0.717292731410831|-0.165945922763554| 2.34586494901581| -2.89008319444231|  1.10996937869599|-0.121359313195888| -2.26185709530414|  0.524979725224404| 0.247998153469754| 0.771679401917229| 0.909412262347719|-0.689280956490685|-0.327641833735251|-0.139096571514147| -0.0553527940384261|-0.0597518405929204|378.66|    0|      9|0.001727485630620...| (12,[9],[1.0])|\n",
      "+----+-----------------+-------------------+----------------+-----------------+------------------+-------------------+-------------------+------------------+------------------+------------------+------------------+------------------+------------------+------------------+-----------------+------------------+------------------+------------------+------------------+-------------------+------------------+------------------+------------------+------------------+------------------+------------------+--------------------+-------------------+------+-----+-------+--------------------+---------------+\n"
     ]
    }
   ],
   "source": [
    "one_hot_data.show(n=3)"
   ],
   "metadata": {
    "collapsed": false,
    "ExecuteTime": {
     "end_time": "2024-05-30T07:18:44.481615200Z",
     "start_time": "2024-05-30T07:18:41.618007100Z"
    }
   },
   "id": "d31f1084df6f3a",
   "execution_count": 25
  },
  {
   "cell_type": "code",
   "outputs": [],
   "source": [
    "features_second = one_hot_data.columns[:-4] + one_hot_data.columns[-1:]\n",
    "data_second = VectorAssembler(inputCols=features_second, outputCol='features').transform(one_hot_data)"
   ],
   "metadata": {
    "collapsed": false,
    "ExecuteTime": {
     "end_time": "2024-05-30T07:18:44.688728200Z",
     "start_time": "2024-05-30T07:18:44.475306100Z"
    }
   },
   "id": "218e5dcbc532c9b9",
   "execution_count": 26
  },
  {
   "cell_type": "code",
   "outputs": [],
   "source": [
    "train, test = data_second.randomSplit([0.8, 0.2], seed=123)"
   ],
   "metadata": {
    "collapsed": false,
    "ExecuteTime": {
     "end_time": "2024-05-30T07:18:44.866678900Z",
     "start_time": "2024-05-30T07:18:44.619008Z"
    }
   },
   "id": "c3c1a14024c95065",
   "execution_count": 27
  },
  {
   "cell_type": "code",
   "outputs": [],
   "source": [
    "rf = RandomForestClassifier(featuresCol='features', labelCol='Class', predictionCol='predictions', weightCol='weights', seed=123).fit(train)"
   ],
   "metadata": {
    "collapsed": false,
    "ExecuteTime": {
     "end_time": "2024-05-30T07:19:14.010438200Z",
     "start_time": "2024-05-30T07:18:44.658858800Z"
    }
   },
   "id": "6071b11d3f300e3d",
   "execution_count": 28
  },
  {
   "cell_type": "code",
   "outputs": [],
   "source": [
    "predictions = rf.transform(test)"
   ],
   "metadata": {
    "collapsed": false,
    "ExecuteTime": {
     "end_time": "2024-05-30T07:19:14.109292800Z",
     "start_time": "2024-05-30T07:19:14.017184600Z"
    }
   },
   "id": "d61162105b2e3b7c",
   "execution_count": 29
  },
  {
   "cell_type": "code",
   "outputs": [
    {
     "name": "stdout",
     "output_type": "stream",
     "text": [
      "+-----------+-----+-----+\n",
      "|predictions|Class|count|\n",
      "+-----------+-----+-----+\n",
      "|        0.0|    0|56722|\n",
      "|        0.0|    1|   17|\n",
      "|        1.0|    1|   76|\n",
      "|        1.0|    0|  165|\n",
      "+-----------+-----+-----+\n"
     ]
    }
   ],
   "source": [
    "predictions.groupBy('predictions', 'Class').count().show()"
   ],
   "metadata": {
    "collapsed": false,
    "ExecuteTime": {
     "end_time": "2024-05-30T07:19:19.101983400Z",
     "start_time": "2024-05-30T07:19:14.157933700Z"
    }
   },
   "id": "1c64120055e6f158",
   "execution_count": 30
  },
  {
   "cell_type": "code",
   "outputs": [
    {
     "name": "stdout",
     "output_type": "stream",
     "text": [
      "0.9071519070725194\n"
     ]
    }
   ],
   "source": [
    "print(BinaryClassificationEvaluator(labelCol='Class', rawPredictionCol='predictions', metricName='areaUnderROC').evaluate(predictions))"
   ],
   "metadata": {
    "collapsed": false,
    "ExecuteTime": {
     "end_time": "2024-05-30T07:19:26.143012100Z",
     "start_time": "2024-05-30T07:19:19.115434900Z"
    }
   },
   "id": "2147359c5ace93c",
   "execution_count": 31
  },
  {
   "cell_type": "markdown",
   "source": [
    "### 4. PCA + Classification"
   ],
   "metadata": {
    "collapsed": false
   },
   "id": "4cab858239a67baa"
  },
  {
   "cell_type": "code",
   "outputs": [],
   "source": [
    "train_for_pca, test_for_pca = data.randomSplit([0.8, 0.2], seed=123)"
   ],
   "metadata": {
    "collapsed": false,
    "ExecuteTime": {
     "end_time": "2024-05-30T09:33:42.684419500Z",
     "start_time": "2024-05-30T09:33:42.637953800Z"
    }
   },
   "id": "c1481b5a1636b4cb",
   "execution_count": 207
  },
  {
   "cell_type": "code",
   "outputs": [],
   "source": [
    "assembler_for_scaling = VectorAssembler(inputCols=['Time', 'Amount'], outputCol='time_and_amount')\n",
    "\n",
    "scaler = RobustScaler(inputCol='time_and_amount', outputCol='scaled', withCentering=True)\n",
    "\n",
    "pipeline_for_scaling = Pipeline(stages=[assembler_for_scaling, scaler]).fit(train_for_pca)"
   ],
   "metadata": {
    "collapsed": false,
    "ExecuteTime": {
     "end_time": "2024-05-30T09:33:46.828448400Z",
     "start_time": "2024-05-30T09:33:43.292484800Z"
    }
   },
   "id": "cde9c15e2861ee5d",
   "execution_count": 208
  },
  {
   "cell_type": "code",
   "outputs": [],
   "source": [
    "train_for_pca_with_scaling = pipeline_for_scaling.transform(train_for_pca)"
   ],
   "metadata": {
    "collapsed": false,
    "ExecuteTime": {
     "end_time": "2024-05-30T09:33:46.941941400Z",
     "start_time": "2024-05-30T09:33:46.811006400Z"
    }
   },
   "id": "5e07dd0a95414565",
   "execution_count": 209
  },
  {
   "cell_type": "code",
   "outputs": [],
   "source": [
    "assembler_for_scaling = VectorAssembler(inputCols=train_for_pca_with_scaling.columns[1:29] + train_for_pca_with_scaling.columns[-1:], outputCol='features')\n",
    "std_scaler = StandardScaler(inputCol=\"features\", outputCol=\"scaledFeatures\", withStd=False, withMean=True)\n",
    "pca = PCA(k=2, inputCol='scaledFeatures', outputCol='PCA_features')\n",
    "\n",
    "pipeline_for_pca = Pipeline(stages=[assembler_for_scaling, std_scaler, pca]).fit(train_for_pca_with_scaling)"
   ],
   "metadata": {
    "collapsed": false,
    "ExecuteTime": {
     "end_time": "2024-05-30T09:33:56.204124700Z",
     "start_time": "2024-05-30T09:33:46.958175600Z"
    }
   },
   "id": "b275f2be98ea557b",
   "execution_count": 210
  },
  {
   "cell_type": "code",
   "outputs": [],
   "source": [
    "train_with_pca = pipeline_for_pca.transform(train_for_pca_with_scaling)"
   ],
   "metadata": {
    "collapsed": false,
    "ExecuteTime": {
     "end_time": "2024-05-30T09:34:00.920824200Z",
     "start_time": "2024-05-30T09:34:00.782365600Z"
    }
   },
   "id": "20f15a31fc07630d",
   "execution_count": 212
  },
  {
   "cell_type": "code",
   "outputs": [],
   "source": [
    "first_slicer = VectorSlicer(inputCol='PCA_features', outputCol='first_attr', indices=[0])\n",
    "train_with_pca = first_slicer.transform(train_with_pca)\n",
    "\n",
    "second_slicer = VectorSlicer(inputCol='PCA_features', outputCol='second_attr', indices=[1])\n",
    "train_with_pca = second_slicer.transform(train_with_pca)"
   ],
   "metadata": {
    "collapsed": false,
    "ExecuteTime": {
     "end_time": "2024-05-30T09:34:01.673252300Z",
     "start_time": "2024-05-30T09:34:01.606158100Z"
    }
   },
   "id": "bf1a79b444aa88af",
   "execution_count": 213
  },
  {
   "cell_type": "code",
   "outputs": [],
   "source": [
    "x = train_with_pca.select('first_attr').collect()\n",
    "y = train_with_pca.select('second_attr').collect()"
   ],
   "metadata": {
    "collapsed": false,
    "ExecuteTime": {
     "end_time": "2024-05-30T09:34:43.227242400Z",
     "start_time": "2024-05-30T09:34:02.031627500Z"
    }
   },
   "id": "522316e6fae0dd63",
   "execution_count": 214
  },
  {
   "cell_type": "code",
   "outputs": [],
   "source": [
    "colors_map = {\n",
    "  0: '#3b4cc0',\n",
    "  1: '#f2da0a',\n",
    "}"
   ],
   "metadata": {
    "collapsed": false,
    "ExecuteTime": {
     "end_time": "2024-05-30T09:34:43.286959400Z",
     "start_time": "2024-05-30T09:34:43.243790200Z"
    }
   },
   "id": "119b556e9cc33b26",
   "execution_count": 215
  },
  {
   "cell_type": "code",
   "outputs": [],
   "source": [
    "class_for_color = train_with_pca.select('Class').collect()"
   ],
   "metadata": {
    "collapsed": false,
    "ExecuteTime": {
     "end_time": "2024-05-30T09:34:47.009284900Z",
     "start_time": "2024-05-30T09:34:43.264293700Z"
    }
   },
   "id": "7abc5ad51c4b29d",
   "execution_count": 216
  },
  {
   "cell_type": "code",
   "outputs": [],
   "source": [
    "colors = list(map(lambda p: colors_map[p[0]], class_for_color))"
   ],
   "metadata": {
    "collapsed": false,
    "ExecuteTime": {
     "end_time": "2024-05-30T09:34:47.201690400Z",
     "start_time": "2024-05-30T09:34:47.017330300Z"
    }
   },
   "id": "c8701a71980227ad",
   "execution_count": 217
  },
  {
   "cell_type": "code",
   "outputs": [
    {
     "data": {
      "text/plain": "<Figure size 640x480 with 1 Axes>",
      "image/png": "[encoded data removed]"
     },
     "metadata": {},
     "output_type": "display_data"
    }
   ],
   "source": [
    "plt.scatter(x, y, c=colors)\n",
    "plt.title(f'Visualizing the principal components')\n",
    "plt.xlabel('Principal component 1')\n",
    "plt.ylabel('Principal component 2')\n",
    "plt.show()"
   ],
   "metadata": {
    "collapsed": false,
    "ExecuteTime": {
     "end_time": "2024-05-30T09:35:01.898806400Z",
     "start_time": "2024-05-30T09:34:47.203864Z"
    }
   },
   "id": "2ba0872df6b4a27a",
   "execution_count": 218
  },
  {
   "cell_type": "code",
   "outputs": [],
   "source": [
    "rf = RandomForestClassifier(featuresCol='PCA_features', labelCol='Class', predictionCol='predictions', weightCol='weights', seed=123).fit(train_with_pca)"
   ],
   "metadata": {
    "collapsed": false,
    "ExecuteTime": {
     "end_time": "2024-05-30T09:35:19.300258600Z",
     "start_time": "2024-05-30T09:35:01.899923400Z"
    }
   },
   "id": "1dfad66c64837868",
   "execution_count": 219
  },
  {
   "cell_type": "code",
   "outputs": [],
   "source": [
    "# Обработка тестовой выборки\n",
    "test_for_pca = pipeline_for_scaling.transform(test_for_pca)\n",
    "\n",
    "test_with_pca = pipeline_for_pca.transform(test_for_pca)"
   ],
   "metadata": {
    "collapsed": false,
    "ExecuteTime": {
     "end_time": "2024-05-30T09:35:19.419682100Z",
     "start_time": "2024-05-30T09:35:19.307146700Z"
    }
   },
   "id": "f3c3c463ddbf1263",
   "execution_count": 220
  },
  {
   "cell_type": "code",
   "outputs": [],
   "source": [
    "predictions = rf.transform(test_with_pca)"
   ],
   "metadata": {
    "collapsed": false,
    "ExecuteTime": {
     "end_time": "2024-05-30T09:37:14.896162300Z",
     "start_time": "2024-05-30T09:37:14.788917500Z"
    }
   },
   "id": "badca25bd12fffe",
   "execution_count": 222
  },
  {
   "cell_type": "code",
   "outputs": [
    {
     "name": "stdout",
     "output_type": "stream",
     "text": [
      "+-----------+-----+-----+\n",
      "|predictions|Class|count|\n",
      "+-----------+-----+-----+\n",
      "|        1.0|    0| 6892|\n",
      "|        0.0|    0|49995|\n",
      "|        1.0|    1|   75|\n",
      "|        0.0|    1|   18|\n",
      "+-----------+-----+-----+\n"
     ]
    }
   ],
   "source": [
    "predictions.groupBy('predictions', 'Class').count().show()"
   ],
   "metadata": {
    "collapsed": false,
    "ExecuteTime": {
     "end_time": "2024-05-30T09:37:26.827831300Z",
     "start_time": "2024-05-30T09:37:16.560720200Z"
    }
   },
   "id": "165fe351ceef263d",
   "execution_count": 223
  },
  {
   "cell_type": "code",
   "outputs": [
    {
     "name": "stdout",
     "output_type": "stream",
     "text": [
      "0.8426495763814738\n"
     ]
    }
   ],
   "source": [
    "print(BinaryClassificationEvaluator(labelCol='Class', rawPredictionCol='predictions', metricName='areaUnderROC').evaluate(predictions))"
   ],
   "metadata": {
    "collapsed": false,
    "ExecuteTime": {
     "end_time": "2024-05-30T09:37:32.782107200Z",
     "start_time": "2024-05-30T09:37:26.834417100Z"
    }
   },
   "id": "59d246ec59ae7c86",
   "execution_count": 224
  }
 ],
 "metadata": {
  "kernelspec": {
   "display_name": "BigData",
   "language": "python",
   "name": "bigdata"
  },
  "language_info": {
   "codemirror_mode": {
    "name": "ipython",
    "version": 3
   },
   "file_extension": ".py",
   "mimetype": "text/x-python",
   "name": "python",
   "nbconvert_exporter": "python",
   "pygments_lexer": "ipython3",
   "version": "3.11.7"
  }
 },
 "nbformat": 4,
 "nbformat_minor": 5
}
