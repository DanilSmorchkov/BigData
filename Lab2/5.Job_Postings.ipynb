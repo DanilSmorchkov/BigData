{
 "cells": [
  {
   "cell_type": "code",
   "execution_count": 1,
   "id": "initial_id",
   "metadata": {
    "collapsed": true,
    "ExecuteTime": {
     "end_time": "2024-06-12T07:32:17.802855Z",
     "start_time": "2024-06-12T07:32:17.771382400Z"
    }
   },
   "outputs": [],
   "source": [
    "import findspark\n",
    "findspark.init()"
   ]
  },
  {
   "cell_type": "code",
   "outputs": [],
   "source": [
    "from pyspark.sql import SparkSession\n",
    "from pyspark.sql.types import StringType, StructType, StructField, TimestampType, BooleanType, FloatType\n",
    "from pyspark.sql.functions import udf\n",
    "from pyspark.sql import functions as F\n",
    "from pyspark.ml.feature import VectorAssembler, Word2Vec, Tokenizer, StopWordsRemover, StringIndexer, IndexToString, OneHotEncoder\n",
    "from pyspark.ml import Pipeline\n",
    "from pyspark.ml.clustering import KMeans\n",
    "from pyspark.ml.classification import RandomForestClassifier\n",
    "from pyspark.ml.evaluation import MulticlassClassificationEvaluator\n",
    "\n",
    "import re\n",
    "\n",
    "import pandas as pd\n",
    "\n",
    "from nltk.probability import FreqDist\n",
    "\n",
    "from matplotlib import pyplot as plt"
   ],
   "metadata": {
    "collapsed": false,
    "ExecuteTime": {
     "end_time": "2024-06-12T07:32:21.158575600Z",
     "start_time": "2024-06-12T07:32:17.791923100Z"
    }
   },
   "id": "93bf573b4df514ab",
   "execution_count": 2
  },
  {
   "cell_type": "code",
   "outputs": [],
   "source": [
    "spark = SparkSession.builder.appName(\"Job_Postings\").master('local[*]').getOrCreate()"
   ],
   "metadata": {
    "collapsed": false,
    "ExecuteTime": {
     "end_time": "2024-06-12T07:32:37.708005Z",
     "start_time": "2024-06-12T07:32:21.161896100Z"
    }
   },
   "id": "ac8d670cb5435d24",
   "execution_count": 3
  },
  {
   "cell_type": "code",
   "outputs": [],
   "source": [
    "schema = StructType([\n",
    "    StructField(\"title\", StringType()),\n",
    "    StructField(\"link\", StringType()),\n",
    "    StructField(\"published_date\", TimestampType()),\n",
    "    StructField(\"is_hourly\", BooleanType()),\n",
    "    StructField(\"hourly_low\", FloatType()),\n",
    "    StructField(\"hourly_high\", FloatType()),\n",
    "    StructField(\"budget\", FloatType()),\n",
    "    StructField(\"country\", StringType())\n",
    "])"
   ],
   "metadata": {
    "collapsed": false,
    "ExecuteTime": {
     "end_time": "2024-06-12T07:32:37.735Z",
     "start_time": "2024-06-12T07:32:37.714145200Z"
    }
   },
   "id": "7367aaf75ecb62c9",
   "execution_count": 4
  },
  {
   "cell_type": "code",
   "outputs": [],
   "source": [
    "data_first = spark.read.option(\"header\", \"true\").option(\"inferSchema\", \"true\").csv('all_upwork_jobs_2024-02-07-2024-03-24.csv', schema=schema, multiLine=True, escape=\"\\\"\")\n",
    "\n",
    "data_second = spark.read.option(\"header\", \"true\").option(\"inferSchema\", \"true\").csv('all_upwork_jobs_2024-03-24-2024-05-21.csv', schema=schema, multiLine=True, escape=\"\\\"\")\n"
   ],
   "metadata": {
    "collapsed": false,
    "ExecuteTime": {
     "end_time": "2024-06-12T07:32:41.830074700Z",
     "start_time": "2024-06-12T07:32:37.725843800Z"
    }
   },
   "id": "fd51604196be72f1",
   "execution_count": 5
  },
  {
   "cell_type": "code",
   "outputs": [],
   "source": [
    "data = data_first.union(data_second)"
   ],
   "metadata": {
    "collapsed": false,
    "ExecuteTime": {
     "end_time": "2024-06-12T07:32:41.926075700Z",
     "start_time": "2024-06-12T07:32:41.835579900Z"
    }
   },
   "id": "96b96fcef9528f6",
   "execution_count": 6
  },
  {
   "cell_type": "code",
   "outputs": [
    {
     "name": "stdout",
     "output_type": "stream",
     "text": [
      "+--------------------+--------------------+-------------------+---------+----------+-----------+------+-------------+\n",
      "|               title|                link|     published_date|is_hourly|hourly_low|hourly_high|budget|      country|\n",
      "+--------------------+--------------------+-------------------+---------+----------+-----------+------+-------------+\n",
      "|Experienced Media...|https://www.upwor...|2024-02-17 12:09:54|    false|      null|       null| 500.0|         null|\n",
      "|Full Stack Developer|https://www.upwor...|2024-02-17 12:09:17|    false|      null|       null|1100.0|United States|\n",
      "|     SMMA Bubble App|https://www.upwor...|2024-02-17 12:08:46|     true|      10.0|       30.0|  null|United States|\n",
      "+--------------------+--------------------+-------------------+---------+----------+-----------+------+-------------+\n"
     ]
    }
   ],
   "source": [
    "data.show(n=3)"
   ],
   "metadata": {
    "collapsed": false,
    "ExecuteTime": {
     "end_time": "2024-06-12T07:32:44.982518300Z",
     "start_time": "2024-06-12T07:32:41.932732200Z"
    }
   },
   "id": "b2a35a5172b9b77",
   "execution_count": 7
  },
  {
   "cell_type": "code",
   "outputs": [
    {
     "name": "stdout",
     "output_type": "stream",
     "text": [
      "root\n",
      " |-- title: string (nullable = true)\n",
      " |-- link: string (nullable = true)\n",
      " |-- published_date: timestamp (nullable = true)\n",
      " |-- is_hourly: boolean (nullable = true)\n",
      " |-- hourly_low: float (nullable = true)\n",
      " |-- hourly_high: float (nullable = true)\n",
      " |-- budget: float (nullable = true)\n",
      " |-- country: string (nullable = true)\n"
     ]
    }
   ],
   "source": [
    "data.printSchema()"
   ],
   "metadata": {
    "collapsed": false,
    "ExecuteTime": {
     "end_time": "2024-06-12T07:32:45.015516Z",
     "start_time": "2024-06-12T07:32:44.989123700Z"
    }
   },
   "id": "5504f0f255b67486",
   "execution_count": 8
  },
  {
   "cell_type": "code",
   "outputs": [],
   "source": [
    "# pipeline\n",
    "stages = []\n",
    "\n",
    "# 1) country\n",
    "str2ind = StringIndexer(inputCol='country', outputCol='indexed_country', handleInvalid='skip')\n",
    "country_one_hot = OneHotEncoder(inputCol='indexed_country', outputCol='country_onehot', dropLast=False)\n",
    "stages.extend((str2ind, country_one_hot))\n",
    "\n",
    "\n",
    "prep_country = Pipeline(stages=stages).fit(data)"
   ],
   "metadata": {
    "collapsed": false,
    "ExecuteTime": {
     "end_time": "2024-06-12T07:32:47.991391800Z",
     "start_time": "2024-06-12T07:32:45.006466Z"
    }
   },
   "id": "b941a4561f0f0a17",
   "execution_count": 9
  },
  {
   "cell_type": "code",
   "outputs": [],
   "source": [
    "data = prep_country.transform(data)"
   ],
   "metadata": {
    "collapsed": false,
    "ExecuteTime": {
     "end_time": "2024-06-12T07:32:48.172010600Z",
     "start_time": "2024-06-12T07:32:47.992467500Z"
    }
   },
   "id": "32c49467909c455a",
   "execution_count": 10
  },
  {
   "cell_type": "code",
   "outputs": [],
   "source": [
    "train, test = data.randomSplit([0.8, 0.2])"
   ],
   "metadata": {
    "collapsed": false,
    "ExecuteTime": {
     "end_time": "2024-06-12T07:32:48.231400900Z",
     "start_time": "2024-06-12T07:32:48.175441200Z"
    }
   },
   "id": "4ccf2c0825b99b4b",
   "execution_count": 11
  },
  {
   "cell_type": "markdown",
   "source": [
    "### Сначала кластеризуем данные по заголовкам. Для этого в очередной раз воспользуемся Word2Vec"
   ],
   "metadata": {
    "collapsed": false
   },
   "id": "e513a567b0fbb5"
  },
  {
   "cell_type": "code",
   "outputs": [],
   "source": [
    "@udf(returnType=StringType())\n",
    "def text_prep(text):\n",
    "    # Переводим текст в нижний регистр\n",
    "    text = str(text).lower()\n",
    "    # Убираем все, кроме букв\n",
    "    text = re.sub(r'[^a-z]', ' ', text)\n",
    "    # Убираем единичные буквы\n",
    "    text = re.sub(r'\\b\\w\\b', ' ', text)\n",
    "    # Если пробелов больше одного заменяем на один\n",
    "    text = re.sub(r'\\s+', ' ', text)\n",
    "    # Удаляем повторяющиеся слова\n",
    "    text = ' '.join(set(word for word in text.split()))\n",
    "    # Убираем пробелы слева и справа\n",
    "    text = text.strip()\n",
    "    return text"
   ],
   "metadata": {
    "collapsed": false,
    "ExecuteTime": {
     "end_time": "2024-06-12T07:32:48.232527500Z",
     "start_time": "2024-06-12T07:32:48.214327500Z"
    }
   },
   "id": "122450b60a47efda",
   "execution_count": 12
  },
  {
   "cell_type": "code",
   "outputs": [],
   "source": [
    "train = train.withColumn('prep_text', text_prep(F.col('title')))\n",
    "train = train.where(train.prep_text != '')\n",
    "\n",
    "test = test.withColumn('prep_text', text_prep(F.col('title')))\n",
    "test = test.where(test.prep_text != '')"
   ],
   "metadata": {
    "collapsed": false,
    "ExecuteTime": {
     "end_time": "2024-06-12T07:32:48.370940100Z",
     "start_time": "2024-06-12T07:32:48.230392400Z"
    }
   },
   "id": "7fb8398d8dd0b30d",
   "execution_count": 13
  },
  {
   "cell_type": "code",
   "outputs": [],
   "source": [
    "# Токенизатор\n",
    "tokenizer = Tokenizer(inputCol='prep_text', outputCol='tokens')\n",
    "\n",
    "# Стоп-слова\n",
    "stopwords = StopWordsRemover.loadDefaultStopWords('english')\n",
    "stopwords.extend(['need', 'needed'])\n",
    "stopwords_remover = StopWordsRemover(inputCol='tokens', outputCol='clear_tokens', stopWords=stopwords)\n",
    "\n",
    "# Ворд ту век\n",
    "word2Vec = Word2Vec(inputCol='clear_tokens', outputCol='w2v_features', vectorSize=100, minCount=100)\n",
    "\n",
    "# Пайплайн\n",
    "pipeline = Pipeline(stages=[tokenizer, stopwords_remover, word2Vec])\n",
    "word2vec_model = pipeline.fit(train)"
   ],
   "metadata": {
    "collapsed": false,
    "ExecuteTime": {
     "end_time": "2024-06-12T07:33:32.344936700Z",
     "start_time": "2024-06-12T07:32:48.371998600Z"
    }
   },
   "id": "c33e05add33798e9",
   "execution_count": 14
  },
  {
   "cell_type": "code",
   "outputs": [],
   "source": [
    "train = word2vec_model.transform(train)"
   ],
   "metadata": {
    "collapsed": false,
    "ExecuteTime": {
     "end_time": "2024-06-12T07:33:32.626670900Z",
     "start_time": "2024-06-12T07:33:32.350498800Z"
    }
   },
   "id": "43364ba78154276a",
   "execution_count": 15
  },
  {
   "cell_type": "code",
   "outputs": [
    {
     "data": {
      "text/plain": "Word2VecModel: uid=Word2Vec_af7fd2c00f8c, numWords=2204, vectorSize=100"
     },
     "execution_count": 16,
     "metadata": {},
     "output_type": "execute_result"
    }
   ],
   "source": [
    "word2vec_model.stages[-1]"
   ],
   "metadata": {
    "collapsed": false,
    "ExecuteTime": {
     "end_time": "2024-06-12T07:33:32.675819Z",
     "start_time": "2024-06-12T07:33:32.635653400Z"
    }
   },
   "id": "63c09434ba6cf463",
   "execution_count": 16
  },
  {
   "cell_type": "code",
   "outputs": [
    {
     "name": "stdout",
     "output_type": "stream",
     "text": [
      "+----------+------------------+\n",
      "|      word|        similarity|\n",
      "+----------+------------------+\n",
      "|kubernetes| 0.845933198928833|\n",
      "|       gcp|0.8030648827552795|\n",
      "|    docker|0.7665404081344604|\n",
      "|deployment|0.7598544359207153|\n",
      "| terraform|0.7563865184783936|\n",
      "|        ci| 0.750397264957428|\n",
      "|        cd|0.7458357214927673|\n",
      "+----------+------------------+\n"
     ]
    }
   ],
   "source": [
    "word2vec_model.stages[-1].findSynonyms(word='devops', num=7).show()"
   ],
   "metadata": {
    "collapsed": false,
    "ExecuteTime": {
     "end_time": "2024-06-12T07:33:32.865094800Z",
     "start_time": "2024-06-12T07:33:32.653836Z"
    }
   },
   "id": "75f71937f0c175f1",
   "execution_count": 17
  },
  {
   "cell_type": "code",
   "outputs": [],
   "source": [
    "kmeans = KMeans(k=11, initMode=\"k-means||\", featuresCol='w2v_features', predictionCol='cluster')\n",
    "km_model = kmeans.fit(train.limit(600000))\n",
    "train = km_model.transform(train)"
   ],
   "metadata": {
    "collapsed": false,
    "ExecuteTime": {
     "end_time": "2024-06-12T07:34:43.063699300Z",
     "start_time": "2024-06-12T07:33:32.873140800Z"
    }
   },
   "id": "e6d3015e35aeaf88",
   "execution_count": 18
  },
  {
   "cell_type": "code",
   "outputs": [
    {
     "name": "stdout",
     "output_type": "stream",
     "text": [
      "    cluster                                            top_words\n",
      "0         0         [expert, specialist, google, ads, marketing]\n",
      "1         1                [writer, looking, amp, create, video]\n",
      "2         2                 [developer, app, react, full, stack]\n",
      "3         3       [website, wordpress, developer, shopify, page]\n",
      "4         4         [media, social, manager, content, marketing]\n",
      "5         5                [data, expert, google, excel, python]\n",
      "6         6                  [designer, design, ui, ux, website]\n",
      "7         7            [video, youtube, editor, channel, videos]\n",
      "8         8  [english, translation, native, spanish, translator]\n",
      "9         9             [designer, design, logo, graphic, brand]\n",
      "10       10        [assistant, virtual, sales, lead, generation]\n"
     ]
    }
   ],
   "source": [
    "d = {}\n",
    "for i in range(11):\n",
    "    ls = []\n",
    "    tmp = train.select('clear_tokens', 'cluster').where(train['cluster'] == i).collect()\n",
    "\n",
    "    tmp = [tmp[j][0] for j in range(len(tmp))]\n",
    "\n",
    "    for el in tmp:\n",
    "        ls.extend(el)\n",
    "\n",
    "    fdist = list(FreqDist(ls))[:5]\n",
    "\n",
    "    d[i] = fdist\n",
    "\n",
    "d_frame = pd.DataFrame(list(d.items()), columns=['cluster', 'top_words'])\n",
    "print(d_frame.to_string())"
   ],
   "metadata": {
    "collapsed": false,
    "ExecuteTime": {
     "end_time": "2024-06-12T07:36:19.435870200Z",
     "start_time": "2024-06-12T07:34:43.067835Z"
    }
   },
   "id": "9c10dce688021b8b",
   "execution_count": 19
  },
  {
   "cell_type": "markdown",
   "source": [
    "### Построим модель для предсказания средней оплаты за час, используя кластеры или чистые эмбеддинги и разделив все цены на категории"
   ],
   "metadata": {
    "collapsed": false
   },
   "id": "5f650a1231f64a51"
  },
  {
   "cell_type": "code",
   "outputs": [],
   "source": [
    "train = train.where((train.hourly_high.isNotNull()) & (train.hourly_low.isNotNull()))\n",
    "train = train.where(F.col('country').isNotNull())\n",
    "\n",
    "train = train.withColumn('hourly_avg', (F.col('hourly_low') + F.col('hourly_high')) / 2)"
   ],
   "metadata": {
    "collapsed": false,
    "ExecuteTime": {
     "end_time": "2024-06-12T07:36:19.613688300Z",
     "start_time": "2024-06-12T07:36:19.435870200Z"
    }
   },
   "id": "bcd4dbfd1e9c129e",
   "execution_count": 20
  },
  {
   "cell_type": "code",
   "outputs": [
    {
     "name": "stdout",
     "output_type": "stream",
     "text": [
      "+--------------------+--------------------+-------------------+---------+----------+-----------+------+-------------+---------------+---------------+--------------------+--------------------+--------------------+--------------------+-------+----------+\n",
      "|               title|                link|     published_date|is_hourly|hourly_low|hourly_high|budget|      country|indexed_country| country_onehot|           prep_text|              tokens|        clear_tokens|        w2v_features|cluster|hourly_avg|\n",
      "+--------------------+--------------------+-------------------+---------+----------+-----------+------+-------------+---------------+---------------+--------------------+--------------------+--------------------+--------------------+-------+----------+\n",
      "|!!! Amazon AWS / ...|https://www.upwor...|2024-03-18 13:59:29|     true|       8.0|       25.0|  null|United States|            0.0|(221,[0],[1.0])|security needed n...|[security, needed...|[security, nginx,...|[-0.1031561358831...|      5|      16.5|\n",
      "|!!! WORDPRESS ELE...|https://www.upwor...|2024-03-18 21:43:08|     true|       3.0|        6.0|  null|United States|            0.0|(221,[0],[1.0])|needed wordpress ...|[needed, wordpres...|[wordpress, eleme...|[-0.2253454787035...|      3|       4.5|\n",
      "|         $ To Crypto|https://www.upwor...|2024-03-14 03:26:37|     true|       5.0|      100.0|  null|United States|            0.0|(221,[0],[1.0])|           to crypto|        [to, crypto]|            [crypto]|[-0.2740702033042...|      4|      52.5|\n",
      "+--------------------+--------------------+-------------------+---------+----------+-----------+------+-------------+---------------+---------------+--------------------+--------------------+--------------------+--------------------+-------+----------+\n"
     ]
    }
   ],
   "source": [
    "train.show(n=3)"
   ],
   "metadata": {
    "collapsed": false,
    "ExecuteTime": {
     "end_time": "2024-06-12T07:36:22.764535700Z",
     "start_time": "2024-06-12T07:36:19.494717800Z"
    }
   },
   "id": "a1f59a0eaccb3d5c",
   "execution_count": 21
  },
  {
   "cell_type": "code",
   "outputs": [],
   "source": [
    "train = train.withColumn('salary_category', F.when(F.col('hourly_avg') <= 5, '<=5')\n",
    "                       .otherwise(F.when(F.col('hourly_avg') <= 10, '5--10')\n",
    "                       .otherwise(F.when(F.col('hourly_avg') <= 25, '10--25')\n",
    "                       .otherwise(F.when(F.col('hourly_avg') <= 50, '25--50')\n",
    "                       .otherwise(F.when(F.col('hourly_avg') <= 100, '50--100')\n",
    "                       .otherwise(F.when(F.col('hourly_avg') <= 200, '100--200')\n",
    "                       .otherwise(F.when(F.col('hourly_avg') <= 500, '200--500')\n",
    "                       .otherwise('>500'))))))))\n"
   ],
   "metadata": {
    "collapsed": false,
    "ExecuteTime": {
     "end_time": "2024-06-12T07:36:23.033063200Z",
     "start_time": "2024-06-12T07:36:22.770541100Z"
    }
   },
   "id": "f4658aba5dfbcac5",
   "execution_count": 22
  },
  {
   "cell_type": "code",
   "outputs": [],
   "source": [
    "# pipeline\n",
    "stages = []\n",
    "\n",
    "# 1) cluster\n",
    "cluster_one_hot = OneHotEncoder(inputCol='cluster', outputCol='cluster_onehot', dropLast=False)\n",
    "stages.append(cluster_one_hot)\n",
    "\n",
    "# 2) features\n",
    "assembler_feature = VectorAssembler(inputCols=['cluster_onehot', 'country_onehot'], outputCol='features')\n",
    "stages.append(assembler_feature)\n",
    "\n",
    "# 3) label\n",
    "label2ind = StringIndexer(inputCol='salary_category', outputCol='indexed_salary_category')\n",
    "stages.append(label2ind)\n",
    "\n",
    "train_prep = Pipeline(stages=stages).fit(train)\n",
    "\n",
    "# 4) Random Forest\n",
    "rf = RandomForestClassifier(featuresCol='features', labelCol='indexed_salary_category', predictionCol='prediction')\n"
   ],
   "metadata": {
    "collapsed": false,
    "ExecuteTime": {
     "end_time": "2024-06-12T07:36:28.551395200Z",
     "start_time": "2024-06-12T07:36:22.884513900Z"
    }
   },
   "id": "fcbf717b3c1c0ab1",
   "execution_count": 23
  },
  {
   "cell_type": "code",
   "outputs": [],
   "source": [
    "model_rf = rf.fit(train_prep.transform(train))"
   ],
   "metadata": {
    "collapsed": false,
    "ExecuteTime": {
     "end_time": "2024-06-12T07:37:00.961564900Z",
     "start_time": "2024-06-12T07:36:28.552497400Z"
    }
   },
   "id": "813ac0c7621331a2",
   "execution_count": 24
  },
  {
   "cell_type": "code",
   "outputs": [],
   "source": [
    "ind2label = IndexToString(inputCol='prediction', outputCol='pred_label', labels=train_prep.stages[-1].labels)"
   ],
   "metadata": {
    "collapsed": false,
    "ExecuteTime": {
     "end_time": "2024-06-12T07:37:01.023250100Z",
     "start_time": "2024-06-12T07:37:00.966226200Z"
    }
   },
   "id": "a79423867d160998",
   "execution_count": 25
  },
  {
   "cell_type": "code",
   "outputs": [],
   "source": [
    "# test\n",
    "test = test.where((test.hourly_high.isNotNull()) & (test.hourly_low.isNotNull()))\n",
    "test = test.where(F.col('country').isNotNull())\n",
    "test = test.withColumn('hourly_avg', (F.col('hourly_low') + F.col('hourly_high')) / 2)\n",
    "test = test.withColumn('salary_category', F.when(F.col('hourly_avg') <= 5, '<=5')\n",
    "                       .otherwise(F.when(F.col('hourly_avg') <= 10, '5--10')\n",
    "                       .otherwise(F.when(F.col('hourly_avg') <= 25, '10--25')\n",
    "                       .otherwise(F.when(F.col('hourly_avg') <= 50, '25--50')\n",
    "                       .otherwise(F.when(F.col('hourly_avg') <= 100, '50--100')\n",
    "                       .otherwise(F.when(F.col('hourly_avg') <= 200, '100--200')\n",
    "                       .otherwise(F.when(F.col('hourly_avg') <= 500, '200--500')\n",
    "                       .otherwise('>500'))))))))"
   ],
   "metadata": {
    "collapsed": false,
    "ExecuteTime": {
     "end_time": "2024-06-12T07:37:01.108505700Z",
     "start_time": "2024-06-12T07:37:01.017787600Z"
    }
   },
   "id": "8dd979d6b7067ebf",
   "execution_count": 26
  },
  {
   "cell_type": "code",
   "outputs": [],
   "source": [
    "test = word2vec_model.transform(test)\n",
    "test = km_model.transform(test)"
   ],
   "metadata": {
    "collapsed": false,
    "ExecuteTime": {
     "end_time": "2024-06-12T07:37:01.375840800Z",
     "start_time": "2024-06-12T07:37:01.115356700Z"
    }
   },
   "id": "3c7e1badf60a41e9",
   "execution_count": 27
  },
  {
   "cell_type": "code",
   "outputs": [],
   "source": [
    "# pipeline\n",
    "stages = []\n",
    "\n",
    "# 1) cluster\n",
    "cluster_one_hot = OneHotEncoder(inputCol='cluster', outputCol='cluster_onehot', dropLast=False)\n",
    "stages.append(cluster_one_hot)\n",
    "\n",
    "# 2) features\n",
    "assembler_feature = VectorAssembler(inputCols=['cluster_onehot', 'country_onehot'], outputCol='features')\n",
    "stages.append(assembler_feature)\n",
    "\n",
    "# 3) label\n",
    "label2ind = StringIndexer(inputCol='salary_category', outputCol='indexed_salary_category')\n",
    "stages.append(label2ind)\n",
    "\n",
    "test_prep = Pipeline(stages=stages).fit(test)"
   ],
   "metadata": {
    "collapsed": false,
    "ExecuteTime": {
     "end_time": "2024-06-12T07:37:06.096321900Z",
     "start_time": "2024-06-12T07:37:01.386145400Z"
    }
   },
   "id": "8d222d9085c24569",
   "execution_count": 28
  },
  {
   "cell_type": "code",
   "outputs": [],
   "source": [
    "pred = model_rf.transform(test_prep.transform(test))\n",
    "pred = ind2label.transform(pred)"
   ],
   "metadata": {
    "collapsed": false,
    "ExecuteTime": {
     "end_time": "2024-06-12T07:37:06.287368Z",
     "start_time": "2024-06-12T07:37:06.103286700Z"
    }
   },
   "id": "6ddd7cc1bd5ac283",
   "execution_count": 29
  },
  {
   "cell_type": "code",
   "outputs": [
    {
     "name": "stdout",
     "output_type": "stream",
     "text": [
      "+----------+---------------+-----+\n",
      "|pred_label|salary_category|count|\n",
      "+----------+---------------+-----+\n",
      "|    10--25|       200--500|  114|\n",
      "|    10--25|          5--10| 5765|\n",
      "|    10--25|         25--50|12176|\n",
      "|    10--25|       100--200|  754|\n",
      "|    10--25|        50--100| 4001|\n",
      "|    10--25|            <=5| 1759|\n",
      "|    10--25|           >500|   18|\n",
      "|    10--25|         10--25|16626|\n",
      "+----------+---------------+-----+\n"
     ]
    }
   ],
   "source": [
    "pred.groupBy('pred_label', 'salary_category').count().show()"
   ],
   "metadata": {
    "collapsed": false,
    "ExecuteTime": {
     "end_time": "2024-06-12T07:37:12.359040500Z",
     "start_time": "2024-06-12T07:37:06.295333800Z"
    }
   },
   "id": "2b6095976d6a09a9",
   "execution_count": 30
  },
  {
   "cell_type": "code",
   "outputs": [
    {
     "name": "stdout",
     "output_type": "stream",
     "text": [
      "Accuracy: 0.4034163977385776\n"
     ]
    }
   ],
   "source": [
    "evaluator = MulticlassClassificationEvaluator(predictionCol='prediction', labelCol='indexed_salary_category', metricName='accuracy')\n",
    "\n",
    "acc = evaluator.evaluate(pred)\n",
    "print(f'Accuracy: {acc}')"
   ],
   "metadata": {
    "collapsed": false,
    "ExecuteTime": {
     "end_time": "2024-06-12T07:37:18.553259400Z",
     "start_time": "2024-06-12T07:37:12.359040500Z"
    }
   },
   "id": "a444a00851129bcf",
   "execution_count": 31
  },
  {
   "cell_type": "markdown",
   "source": [
    "### Далее классификация, только используются не кластеры, а непосредственно векторы Word2Vec"
   ],
   "metadata": {
    "collapsed": false
   },
   "id": "3e31182f8618e4cf"
  },
  {
   "cell_type": "code",
   "outputs": [],
   "source": [
    "assembler_w2v_feature = VectorAssembler(inputCols=['country_onehot', 'w2v_features'], outputCol='feature2')\n",
    "label2ind_w2v = StringIndexer(inputCol='salary_category', outputCol='indexed_salary_category_w2v').fit(train)\n",
    "\n",
    "train = label2ind_w2v.transform(assembler_w2v_feature.transform(train))"
   ],
   "metadata": {
    "collapsed": false,
    "ExecuteTime": {
     "end_time": "2024-06-12T07:37:23.369488600Z",
     "start_time": "2024-06-12T07:37:18.557231400Z"
    }
   },
   "id": "5be39f341d1138ef",
   "execution_count": 32
  },
  {
   "cell_type": "code",
   "outputs": [],
   "source": [
    "rf_model = RandomForestClassifier(featuresCol='feature2', labelCol='indexed_salary_category_w2v', predictionCol='prediction2').fit(train)"
   ],
   "metadata": {
    "collapsed": false,
    "ExecuteTime": {
     "end_time": "2024-06-12T07:38:04.215379200Z",
     "start_time": "2024-06-12T07:37:23.376757700Z"
    }
   },
   "id": "5b53bc24a95eb358",
   "execution_count": 33
  },
  {
   "cell_type": "code",
   "outputs": [],
   "source": [
    "assembler_w2v_feature = VectorAssembler(inputCols=['country_onehot', 'w2v_features'], outputCol='feature2')\n",
    "label2ind_w2v = StringIndexer(inputCol='salary_category', outputCol='indexed_salary_category_w2v').fit(test)\n",
    "\n",
    "test = label2ind_w2v.transform(assembler_w2v_feature.transform(test))"
   ],
   "metadata": {
    "collapsed": false,
    "ExecuteTime": {
     "end_time": "2024-06-12T07:38:08.254138900Z",
     "start_time": "2024-06-12T07:38:04.226712500Z"
    }
   },
   "id": "87cd91d0c53f8f8",
   "execution_count": 34
  },
  {
   "cell_type": "code",
   "outputs": [],
   "source": [
    "ind2label = IndexToString(inputCol='prediction2', outputCol='pred_label2', labels=label2ind_w2v.labels)"
   ],
   "metadata": {
    "collapsed": false,
    "ExecuteTime": {
     "end_time": "2024-06-12T07:38:08.328401600Z",
     "start_time": "2024-06-12T07:38:08.263870Z"
    }
   },
   "id": "baf00e859198091c",
   "execution_count": 35
  },
  {
   "cell_type": "code",
   "outputs": [],
   "source": [
    "pred = rf_model.transform(test_prep.transform(test))\n",
    "pred = ind2label.transform(pred)"
   ],
   "metadata": {
    "collapsed": false,
    "ExecuteTime": {
     "end_time": "2024-06-12T07:38:08.452560200Z",
     "start_time": "2024-06-12T07:38:08.294309400Z"
    }
   },
   "id": "ad4e53291153cdd4",
   "execution_count": 36
  },
  {
   "cell_type": "code",
   "outputs": [
    {
     "name": "stdout",
     "output_type": "stream",
     "text": [
      "+-----------+---------------+-----+\n",
      "|pred_label2|salary_category|count|\n",
      "+-----------+---------------+-----+\n",
      "|     10--25|       200--500|  112|\n",
      "|      5--10|            <=5|  237|\n",
      "|     10--25|          5--10| 5198|\n",
      "|      5--10|         25--50|   65|\n",
      "|      5--10|       200--500|    2|\n",
      "|     10--25|         25--50|12039|\n",
      "|      5--10|          5--10|  567|\n",
      "|      5--10|       100--200|    5|\n",
      "|     25--50|         25--50|   72|\n",
      "|     10--25|       100--200|  747|\n",
      "|     10--25|        50--100| 3974|\n",
      "|     10--25|            <=5| 1522|\n",
      "|     10--25|           >500|   17|\n",
      "|     25--50|         10--25|    9|\n",
      "|      5--10|        50--100|   23|\n",
      "|     10--25|         10--25|16376|\n",
      "|      5--10|         10--25|  241|\n",
      "|      5--10|           >500|    1|\n",
      "|     25--50|        50--100|    4|\n",
      "|     25--50|       100--200|    2|\n",
      "+-----------+---------------+-----+\n"
     ]
    }
   ],
   "source": [
    "pred.groupBy('pred_label2', 'salary_category').count().show()"
   ],
   "metadata": {
    "collapsed": false,
    "ExecuteTime": {
     "end_time": "2024-06-12T07:38:13.820991600Z",
     "start_time": "2024-06-12T07:38:08.457845800Z"
    }
   },
   "id": "22cd0bc5480ea24b",
   "execution_count": 37
  },
  {
   "cell_type": "code",
   "outputs": [
    {
     "name": "stdout",
     "output_type": "stream",
     "text": [
      "Accuracy: 0.4128551670589377\n"
     ]
    }
   ],
   "source": [
    "evaluator = MulticlassClassificationEvaluator(predictionCol='prediction2', labelCol='indexed_salary_category', metricName='accuracy')\n",
    "\n",
    "acc = evaluator.evaluate(pred)\n",
    "print(f'Accuracy: {acc}')"
   ],
   "metadata": {
    "collapsed": false,
    "ExecuteTime": {
     "end_time": "2024-06-12T07:38:31.667599300Z",
     "start_time": "2024-06-12T07:38:23.964735300Z"
    }
   },
   "id": "f712c23dc4ce1a83",
   "execution_count": 39
  }
 ],
 "metadata": {
  "kernelspec": {
   "name": "bigdata",
   "language": "python",
   "display_name": "BigData"
  },
  "language_info": {
   "codemirror_mode": {
    "name": "ipython",
    "version": 2
   },
   "file_extension": ".py",
   "mimetype": "text/x-python",
   "name": "python",
   "nbconvert_exporter": "python",
   "pygments_lexer": "ipython2",
   "version": "2.7.6"
  }
 },
 "nbformat": 4,
 "nbformat_minor": 5
}
