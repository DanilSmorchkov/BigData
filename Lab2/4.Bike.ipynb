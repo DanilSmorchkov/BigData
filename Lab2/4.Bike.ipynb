{
 "cells": [
  {
   "cell_type": "code",
   "execution_count": 29,
   "id": "initial_id",
   "metadata": {
    "collapsed": true,
    "ExecuteTime": {
     "end_time": "2024-06-10T19:23:03.084276300Z",
     "start_time": "2024-06-10T19:23:02.812277900Z"
    }
   },
   "outputs": [],
   "source": [
    "import os\n",
    "import sys\n",
    "import findspark\n",
    "findspark.init()\n",
    "os.environ['PYSPARK_PYTHON'] = sys.executable\n",
    "os.environ['PYSPARK_DRIVER_PYTHON'] = sys.executable"
   ]
  },
  {
   "cell_type": "code",
   "outputs": [],
   "source": [
    "from pyspark.sql import SparkSession\n",
    "from pyspark.sql import functions as F\n",
    "from pyspark.sql.functions import udf\n",
    "from pyspark.sql.types import StringType, IntegerType\n",
    "from pyspark.ml.feature import VectorAssembler, StringIndexer\n",
    "from pyspark.ml.regression import LinearRegression\n",
    "from pyspark.ml.evaluation import RegressionEvaluator\n",
    "\n",
    "import seaborn as sns\n",
    "sns.set_theme(rc={'figure.figsize':(11, 6)})\n",
    "from matplotlib import pyplot as plt\n",
    "\n",
    "import pandas as pd\n",
    "import numpy as np\n",
    "import re"
   ],
   "metadata": {
    "collapsed": false,
    "ExecuteTime": {
     "end_time": "2024-06-10T19:45:04.187621Z",
     "start_time": "2024-06-10T19:45:04.091506500Z"
    }
   },
   "id": "5c63d34e630f2a1c",
   "execution_count": 66
  },
  {
   "cell_type": "code",
   "outputs": [],
   "source": [
    "spark = SparkSession.builder.appName(\"BigData\").master('local[*]').getOrCreate() "
   ],
   "metadata": {
    "collapsed": false,
    "ExecuteTime": {
     "end_time": "2024-06-10T19:23:11.964739700Z",
     "start_time": "2024-06-10T19:23:03.850928600Z"
    }
   },
   "id": "e9b89bf9ebfd19a3",
   "execution_count": 31
  },
  {
   "cell_type": "markdown",
   "source": [
    "### Считаем данные и объединим их в один DataFrame"
   ],
   "metadata": {
    "collapsed": false
   },
   "id": "e567c75fca1d6b8d"
  },
  {
   "cell_type": "code",
   "outputs": [],
   "source": [
    "data = spark.read.csv('mibici_2014-2024.csv', header=True, inferSchema=True).withColumnRenamed('_c0', 'id')\n",
    "stations = spark.read.csv('nomenclature_2024.csv', header=True, inferSchema=True)"
   ],
   "metadata": {
    "collapsed": false,
    "ExecuteTime": {
     "end_time": "2024-06-10T19:23:46.909186800Z",
     "start_time": "2024-06-10T19:23:11.970423300Z"
    }
   },
   "id": "e88bfbbd95a320bc",
   "execution_count": 32
  },
  {
   "cell_type": "code",
   "outputs": [
    {
     "name": "stdout",
     "output_type": "stream",
     "text": [
      "+---+--------+-------+---+----------+-------------------+-------------------+---------+--------------+---+---------------+\n",
      "| id| Trip_Id|User_Id|Sex|Birth_year|         Trip_start|           Trip_end|Origin_Id|Destination_Id|Age|       Duration|\n",
      "+---+--------+-------+---+----------+-------------------+-------------------+---------+--------------+---+---------------+\n",
      "|  0|32244893|1470734|  M|      1981|2024-01-31 23:59:33|2024-02-01 00:11:15|       24|            86| 43|0 days 00:11:42|\n",
      "|  1|32244892|2731702|  M|      1994|2024-01-31 23:59:06|2024-02-01 00:10:49|       48|           279| 30|0 days 00:11:43|\n",
      "|  2|32244891|1431452|  M|      2001|2024-01-31 23:58:48|2024-02-01 00:01:42|      273|           383| 23|0 days 00:02:54|\n",
      "+---+--------+-------+---+----------+-------------------+-------------------+---------+--------------+---+---------------+\n"
     ]
    }
   ],
   "source": [
    "data.show(n=3)"
   ],
   "metadata": {
    "collapsed": false,
    "ExecuteTime": {
     "end_time": "2024-06-10T19:23:47.554735400Z",
     "start_time": "2024-06-10T19:23:46.912600Z"
    }
   },
   "id": "9a91706226bfaf2c",
   "execution_count": 33
  },
  {
   "cell_type": "code",
   "outputs": [
    {
     "name": "stdout",
     "output_type": "stream",
     "text": [
      "+---+--------------------+-------+----------------+---------+-----------+----------+\n",
      "| id|                name|   obcn|        location| latitude|  longitude|    status|\n",
      "+---+--------------------+-------+----------------+---------+-----------+----------+\n",
      "|  2|(GDL-001) C. Epig...|GDL-001|POLÍGONO CENTRAL|20.666378| -103.34882|IN_SERVICE|\n",
      "|  3|(GDL-002) C. Colo...|GDL-002|POLÍGONO CENTRAL|20.667228|   -103.366|IN_SERVICE|\n",
      "|  4|(GDL-003) C. Vidr...|GDL-003|POLÍGONO CENTRAL| 20.66769|-103.368252|IN_SERVICE|\n",
      "+---+--------------------+-------+----------------+---------+-----------+----------+\n"
     ]
    }
   ],
   "source": [
    "stations.show(n=3)"
   ],
   "metadata": {
    "collapsed": false,
    "ExecuteTime": {
     "end_time": "2024-06-10T19:23:48.080911100Z",
     "start_time": "2024-06-10T19:23:47.555908700Z"
    }
   },
   "id": "6782156374614d30",
   "execution_count": 34
  },
  {
   "cell_type": "code",
   "outputs": [],
   "source": [
    "df_origin = stations.withColumnRenamed('id', 'Origin_Id')\\\n",
    "                    .withColumnRenamed('obcn', 'Station_code_origin')\\\n",
    "                    .withColumnRenamed('latitude', 'latitude_origin')\\\n",
    "                    .withColumnRenamed('longitude', 'longitude_origin')\\\n",
    "                    .select(\"Origin_Id\", \"Station_code_origin\", \"latitude_origin\", \"longitude_origin\")\n",
    "\n",
    "df_destination = stations.withColumnRenamed('id', 'Destination_Id')\\\n",
    "                    .withColumnRenamed('obcn', 'Station_code_destination')\\\n",
    "                    .withColumnRenamed('latitude', 'latitude_destination')\\\n",
    "                    .withColumnRenamed('longitude', 'longitude_destination')\\\n",
    "                    .select(\"Destination_Id\", \"Station_code_destination\", \"latitude_destination\", \"longitude_destination\")"
   ],
   "metadata": {
    "collapsed": false,
    "ExecuteTime": {
     "end_time": "2024-06-10T19:23:48.277185400Z",
     "start_time": "2024-06-10T19:23:47.842892800Z"
    }
   },
   "id": "1ea5b1d2cf67cfd4",
   "execution_count": 35
  },
  {
   "cell_type": "code",
   "outputs": [],
   "source": [
    "data = data.join(df_origin, how='left', on='Origin_Id').join(df_destination, how='left', on='Destination_Id')"
   ],
   "metadata": {
    "collapsed": false,
    "ExecuteTime": {
     "end_time": "2024-06-10T19:23:48.424069600Z",
     "start_time": "2024-06-10T19:23:48.010523200Z"
    }
   },
   "id": "596edda945e7ebcf",
   "execution_count": 36
  },
  {
   "cell_type": "code",
   "outputs": [
    {
     "name": "stdout",
     "output_type": "stream",
     "text": [
      "+--------------+---------+---+--------+-------+---+----------+-------------------+-------------------+---+---------------+-------------------+---------------+----------------+------------------------+--------------------+---------------------+\n",
      "|Destination_Id|Origin_Id| id| Trip_Id|User_Id|Sex|Birth_year|         Trip_start|           Trip_end|Age|       Duration|Station_code_origin|latitude_origin|longitude_origin|Station_code_destination|latitude_destination|longitude_destination|\n",
      "+--------------+---------+---+--------+-------+---+----------+-------------------+-------------------+---+---------------+-------------------+---------------+----------------+------------------------+--------------------+---------------------+\n",
      "|            86|       24|  0|32244893|1470734|  M|      1981|2024-01-31 23:59:33|2024-02-01 00:11:15| 43|0 days 00:11:42|            GDL-022|      20.679389|      -103.35913|                 GDL-084|           20.669306|          -103.368312|\n",
      "|           279|       48|  1|32244892|2731702|  M|      1994|2024-01-31 23:59:06|2024-02-01 00:10:49| 30|0 days 00:11:43|            GDL-046|      20.675014|     -103.365025|                 GDL-206|            20.66231|           -103.36011|\n",
      "|           383|      273|  2|32244891|1431452|  M|      2001|2024-01-31 23:58:48|2024-02-01 00:01:42| 23|0 days 00:02:54|            GDL-200|       20.69406|      -103.34824|                 GDL-240|          20.6899885|          -103.344978|\n",
      "+--------------+---------+---+--------+-------+---+----------+-------------------+-------------------+---+---------------+-------------------+---------------+----------------+------------------------+--------------------+---------------------+\n"
     ]
    }
   ],
   "source": [
    "data.show(n=3)"
   ],
   "metadata": {
    "collapsed": false,
    "ExecuteTime": {
     "end_time": "2024-06-10T19:23:50.308329300Z",
     "start_time": "2024-06-10T19:23:48.138295400Z"
    }
   },
   "id": "98deab534cb5b9c3",
   "execution_count": 37
  },
  {
   "cell_type": "markdown",
   "source": [
    "### 1. Посмотрим на сводную статистику по пользователям"
   ],
   "metadata": {
    "collapsed": false
   },
   "id": "685e68c5c17169a5"
  },
  {
   "cell_type": "code",
   "outputs": [],
   "source": [
    "# General\n",
    "trips = data.count()\n",
    "unique_users = data.select('User_Id').distinct().count()\n",
    "trips_to_user = int(trips / unique_users)"
   ],
   "metadata": {
    "collapsed": false,
    "ExecuteTime": {
     "end_time": "2024-06-10T19:24:34.253662800Z",
     "start_time": "2024-06-10T19:23:50.313262600Z"
    }
   },
   "id": "a25b80c86a44528b",
   "execution_count": 38
  },
  {
   "cell_type": "code",
   "outputs": [
    {
     "name": "stdout",
     "output_type": "stream",
     "text": [
      "General:\n",
      "Total trips: 25863690,\n",
      "Total users: 68192,\n",
      "Average trips per user: 379\n"
     ]
    }
   ],
   "source": [
    "print(f\"\"\"General:\n",
    "Total trips: {trips},\n",
    "Total users: {unique_users},\n",
    "Average trips per user: {trips_to_user}\"\"\")"
   ],
   "metadata": {
    "collapsed": false,
    "ExecuteTime": {
     "end_time": "2024-06-10T19:24:34.288710600Z",
     "start_time": "2024-06-10T19:24:34.259489100Z"
    }
   },
   "id": "4889ddee2edc8166",
   "execution_count": 39
  },
  {
   "cell_type": "code",
   "outputs": [],
   "source": [
    "# Age\n",
    "mean_age = data.select(F.mean('Age')).head()[0]\n",
    "median_age = data.select(F.median('Age')).head()[0]\n",
    "mode_age = data.select(F.mode('Age')).head()[0]\n",
    "min_age = data.select(F.min('Age')).head()[0]\n",
    "max_age = data.select(F.max('Age')).head()[0]"
   ],
   "metadata": {
    "collapsed": false,
    "ExecuteTime": {
     "end_time": "2024-06-10T19:26:06.881500200Z",
     "start_time": "2024-06-10T19:24:34.276978Z"
    }
   },
   "id": "103c153fa987381b",
   "execution_count": 40
  },
  {
   "cell_type": "code",
   "outputs": [
    {
     "name": "stdout",
     "output_type": "stream",
     "text": [
      "AGE\n",
      "mean: 32\n",
      "median: 30\n",
      "mode: 26\n",
      "max: 104\n",
      "min: 16\n"
     ]
    }
   ],
   "source": [
    "print(f\"\"\"AGE\n",
    "mean: {int(mean_age)}\n",
    "median: {int(median_age)}\n",
    "mode: {mode_age}\n",
    "max: {max_age}\n",
    "min: {min_age}\"\"\")"
   ],
   "metadata": {
    "collapsed": false,
    "ExecuteTime": {
     "end_time": "2024-06-10T19:26:06.902115300Z",
     "start_time": "2024-06-10T19:26:06.888625500Z"
    }
   },
   "id": "ac8fd302bc53acad",
   "execution_count": 41
  },
  {
   "cell_type": "code",
   "outputs": [],
   "source": [
    "# Sex\n",
    "female = data.where(data.Sex == \"F\").count()\n",
    "f_perc = round(female / trips * 100, 2)\n",
    "male = data.where(data.Sex == 'M').count()\n",
    "m_perc = round(male / trips * 100, 2)"
   ],
   "metadata": {
    "collapsed": false,
    "ExecuteTime": {
     "end_time": "2024-06-10T19:26:42.721813400Z",
     "start_time": "2024-06-10T19:26:06.916052800Z"
    }
   },
   "id": "16be85eb4bf5853",
   "execution_count": 42
  },
  {
   "cell_type": "code",
   "outputs": [
    {
     "name": "stdout",
     "output_type": "stream",
     "text": [
      "SEX\n",
      "Female trips 6708589 (25.94%),\n",
      "Male trips 19155101 (74.06%)\n"
     ]
    }
   ],
   "source": [
    "print(f\"\"\"SEX\n",
    "Female trips {female} ({f_perc}%),\n",
    "Male trips {male} ({m_perc}%)\"\"\")"
   ],
   "metadata": {
    "collapsed": false,
    "ExecuteTime": {
     "end_time": "2024-06-10T19:26:42.743869200Z",
     "start_time": "2024-06-10T19:26:42.729810Z"
    }
   },
   "id": "c14f880d5ec9a2a9",
   "execution_count": 43
  },
  {
   "cell_type": "code",
   "outputs": [],
   "source": [
    "# plot distributions\n",
    "pd_age = data.groupby('Age').agg(F.count(F.col('User_Id')).alias('Count')).toPandas()"
   ],
   "metadata": {
    "collapsed": false,
    "ExecuteTime": {
     "end_time": "2024-06-10T19:27:03.518073Z",
     "start_time": "2024-06-10T19:26:42.756765400Z"
    }
   },
   "id": "34268accc4108f69",
   "execution_count": 44
  },
  {
   "cell_type": "code",
   "outputs": [
    {
     "data": {
      "text/plain": "<Figure size 1100x600 with 1 Axes>",
      "image/png": "[encoded data removed]"
     },
     "metadata": {},
     "output_type": "display_data"
    }
   ],
   "source": [
    "sns.barplot(data=pd_age, x='Age', y='Count', width=1)\n",
    "plt.xticks([4, 14, 24, 34, 44, 54, 64, 74, 84])\n",
    "plt.show()"
   ],
   "metadata": {
    "collapsed": false,
    "ExecuteTime": {
     "end_time": "2024-06-10T19:27:04.824151800Z",
     "start_time": "2024-06-10T19:27:03.559171700Z"
    }
   },
   "id": "78b853f40d82ceee",
   "execution_count": 45
  },
  {
   "cell_type": "code",
   "outputs": [],
   "source": [
    "pd_age_by_sex = data.groupby('Age', 'Sex').agg(F.count(F.col('User_Id')).alias('Count')).toPandas()"
   ],
   "metadata": {
    "collapsed": false,
    "ExecuteTime": {
     "end_time": "2024-06-10T19:27:26.264620400Z",
     "start_time": "2024-06-10T19:27:04.828692400Z"
    }
   },
   "id": "bb30106a6f0ed25d",
   "execution_count": 46
  },
  {
   "cell_type": "code",
   "outputs": [],
   "source": [
    "asd = pd_age_by_sex.sample(n=20000000, weights='Count', replace=True)"
   ],
   "metadata": {
    "collapsed": false,
    "ExecuteTime": {
     "end_time": "2024-06-10T19:27:28.597699600Z",
     "start_time": "2024-06-10T19:27:26.285111900Z"
    }
   },
   "id": "1a86ae5e7aff339b",
   "execution_count": 47
  },
  {
   "cell_type": "code",
   "outputs": [
    {
     "data": {
      "text/plain": "<Figure size 1100x600 with 1 Axes>",
      "image/png": "[encoded data removed]"
     },
     "metadata": {},
     "output_type": "display_data"
    }
   ],
   "source": [
    "sns.violinplot(data=asd, x='Sex', y='Age', hue='Sex')\n",
    "plt.show()"
   ],
   "metadata": {
    "collapsed": false,
    "ExecuteTime": {
     "end_time": "2024-06-10T19:30:44.714609400Z",
     "start_time": "2024-06-10T19:27:28.619219400Z"
    }
   },
   "id": "266edb33f5900b0c",
   "execution_count": 48
  },
  {
   "cell_type": "markdown",
   "source": [
    "### 2. Посчитаем дистанцию между началом поездки и концом по формуле Хаверсина:"
   ],
   "metadata": {
    "collapsed": false
   },
   "id": "9792cd344d14d39"
  },
  {
   "cell_type": "markdown",
   "source": [
    "$$ d = 2r\\arcsin\\left( \\sqrt{ \\sin^2\\left(\\frac{\\phi_2 - \\phi_1}{2}\\right) + \\cos\\phi_1 \\cdot \\cos\\phi_2 \\cdot \\sin^2\\left(\\frac{\\lambda_2 - \\lambda_1}{2}\\right) } \\right), $$ \\\n",
    "где $\\phi$ - широта, \\\n",
    "$\\lambda$ - долгота, \\\n",
    "$r$ - радиус Земли.\n",
    "\n"
   ],
   "metadata": {
    "collapsed": false
   },
   "id": "8a967e9e29e38821"
  },
  {
   "cell_type": "code",
   "outputs": [],
   "source": [
    "r = 6373.0  # Радиус Земли в км\n",
    "data = data.withColumn('distance', 2 * r * F.asin(F.sqrt(\n",
    "    F.pow(F.sin((F.radians(F.col('latitude_destination')) - F.radians(F.col('latitude_origin'))) / 2), 2) + \n",
    "    F.pow(F.sin((F.radians(F.col('longitude_destination')) - F.radians(F.col('longitude_origin'))) / 2), 2) *\n",
    "    F.cos(F.radians(F.col('latitude_origin'))) * F.cos(F.radians(F.col('latitude_destination')))\n",
    ")))"
   ],
   "metadata": {
    "collapsed": false,
    "ExecuteTime": {
     "end_time": "2024-06-10T19:30:45.539653100Z",
     "start_time": "2024-06-10T19:30:44.651970400Z"
    }
   },
   "id": "b3d858faa975f92e",
   "execution_count": 49
  },
  {
   "cell_type": "code",
   "outputs": [
    {
     "name": "stdout",
     "output_type": "stream",
     "text": [
      "+--------------+---------+---+--------+-------+---+----------+-------------------+-------------------+---+---------------+-------------------+---------------+----------------+------------------------+--------------------+---------------------+------------------+\n",
      "|Destination_Id|Origin_Id| id| Trip_Id|User_Id|Sex|Birth_year|         Trip_start|           Trip_end|Age|       Duration|Station_code_origin|latitude_origin|longitude_origin|Station_code_destination|latitude_destination|longitude_destination|          distance|\n",
      "+--------------+---------+---+--------+-------+---+----------+-------------------+-------------------+---+---------------+-------------------+---------------+----------------+------------------------+--------------------+---------------------+------------------+\n",
      "|            86|       24|  0|32244893|1470734|  M|      1981|2024-01-31 23:59:33|2024-02-01 00:11:15| 43|0 days 00:11:42|            GDL-022|      20.679389|      -103.35913|                 GDL-084|           20.669306|          -103.368312|1.4733944058989565|\n",
      "|           279|       48|  1|32244892|2731702|  M|      1994|2024-01-31 23:59:06|2024-02-01 00:10:49| 30|0 days 00:11:43|            GDL-046|      20.675014|     -103.365025|                 GDL-206|            20.66231|           -103.36011| 1.502793925387885|\n",
      "|           383|      273|  2|32244891|1431452|  M|      2001|2024-01-31 23:58:48|2024-02-01 00:01:42| 23|0 days 00:02:54|            GDL-200|       20.69406|      -103.34824|                 GDL-240|          20.6899885|          -103.344978|0.5659538096344604|\n",
      "+--------------+---------+---+--------+-------+---+----------+-------------------+-------------------+---+---------------+-------------------+---------------+----------------+------------------------+--------------------+---------------------+------------------+\n"
     ]
    }
   ],
   "source": [
    "data.show(n=3)"
   ],
   "metadata": {
    "collapsed": false,
    "ExecuteTime": {
     "end_time": "2024-06-10T19:30:45.676430800Z",
     "start_time": "2024-06-10T19:30:44.785030300Z"
    }
   },
   "id": "23ae31b6e744896e",
   "execution_count": 50
  },
  {
   "cell_type": "markdown",
   "source": [
    "### 3. Разобьем все поездки по категориям по времени для определенной станции и месяца"
   ],
   "metadata": {
    "collapsed": false
   },
   "id": "3f65fb9406a21f8"
  },
  {
   "cell_type": "code",
   "outputs": [],
   "source": [
    "@udf(returnType=StringType())\n",
    "def duration_split(duration):\n",
    "        list_time = re.split(' |:', duration)\n",
    "        day = list_time[0]\n",
    "        if int(int(day) > 0):\n",
    "            return 'over_1_day'\n",
    "        hour = list_time[2]\n",
    "        if int(int(hour) > 0):\n",
    "            return 'over_1_hour'\n",
    "        minute = list_time[3]\n",
    "        if int(int(minute)>45):\n",
    "            return 'over_45_min'\n",
    "        elif int(int(minute)>30):\n",
    "            return 'over_30_min'\n",
    "        elif int(int(minute)>15):\n",
    "            return 'over_15_min'\n",
    "        elif int(int(minute)>5):\n",
    "            return 'over_5_min'\n",
    "        else:\n",
    "            return 'under_5_min'"
   ],
   "metadata": {
    "collapsed": false,
    "ExecuteTime": {
     "end_time": "2024-06-10T19:30:45.677542200Z",
     "start_time": "2024-06-10T19:30:45.374700100Z"
    }
   },
   "id": "7f1c58be6bc22e31",
   "execution_count": 51
  },
  {
   "cell_type": "code",
   "outputs": [],
   "source": [
    "data = data.withColumn('Split_duration', duration_split(F.col('Duration')))"
   ],
   "metadata": {
    "collapsed": false,
    "ExecuteTime": {
     "end_time": "2024-06-10T19:30:45.933323900Z",
     "start_time": "2024-06-10T19:30:45.380594500Z"
    }
   },
   "id": "3e841e31688cde20",
   "execution_count": 52
  },
  {
   "cell_type": "code",
   "outputs": [],
   "source": [
    "ORIGIN_STATION_CODE = 'GDL-084'\n",
    "YEAR_AND_MONTH = None  # yyyy-mm or yyyy"
   ],
   "metadata": {
    "collapsed": false,
    "ExecuteTime": {
     "end_time": "2024-06-10T19:30:45.943584400Z",
     "start_time": "2024-06-10T19:30:45.534718900Z"
    }
   },
   "id": "8479f20099d486d8",
   "execution_count": 53
  },
  {
   "cell_type": "code",
   "outputs": [],
   "source": [
    "if not YEAR_AND_MONTH and ORIGIN_STATION_CODE:\n",
    "    df_counts = data.where(data.Station_code_origin == ORIGIN_STATION_CODE).groupby('Split_duration').agg(F.count(F.col('Trip_Id')).alias('Count_duration'))\n",
    "elif YEAR_AND_MONTH and ORIGIN_STATION_CODE:\n",
    "    df_counts = data.where((data.Station_code_origin == ORIGIN_STATION_CODE) & (data.Trip_start.contains(YEAR_AND_MONTH))).groupby('Split_duration')\\\n",
    "                     .agg(F.count(F.col('Trip_Id')).alias('Count_duration'))\n",
    "elif not YEAR_AND_MONTH and not ORIGIN_STATION_CODE:\n",
    "    df_counts = data.groupby('Split_duration')\\\n",
    "                     .agg(F.count(F.col('Trip_Id')).alias('Count_duration'))\n",
    "elif YEAR_AND_MONTH and not ORIGIN_STATION_CODE:\n",
    "    df_counts = data.where((data.Trip_start.contains(YEAR_AND_MONTH))).groupby('Split_duration')\\\n",
    "                     .agg(F.count(F.col('Trip_Id')).alias('Count_duration'))"
   ],
   "metadata": {
    "collapsed": false,
    "ExecuteTime": {
     "end_time": "2024-06-10T19:30:45.952904500Z",
     "start_time": "2024-06-10T19:30:45.548566100Z"
    }
   },
   "id": "1280f802ecd60cf5",
   "execution_count": 54
  },
  {
   "cell_type": "code",
   "outputs": [],
   "source": [
    "time_intervals = {'under_5_min': 1, 'over_5_min': 2, 'over_15_min': 3, 'over_30_min': 4, 'over_45_min': 5, 'over_1_hour': 6, 'over_1_day': 7}\n"
   ],
   "metadata": {
    "collapsed": false,
    "ExecuteTime": {
     "end_time": "2024-06-10T19:30:45.982522Z",
     "start_time": "2024-06-10T19:30:45.611274600Z"
    }
   },
   "id": "d3856b9c5cd473e0",
   "execution_count": 55
  },
  {
   "cell_type": "code",
   "outputs": [
    {
     "data": {
      "text/plain": "<Figure size 900x500 with 1 Axes>",
      "image/png": "[encoded data removed]"
     },
     "metadata": {},
     "output_type": "display_data"
    }
   ],
   "source": [
    "pd_plot = df_counts.toPandas()\n",
    "pd_plot['sort_index'] = pd_plot['Split_duration'].apply(lambda x: time_intervals[x])\n",
    "pd_plot = pd_plot.sort_values(by='sort_index')\n",
    "\n",
    "fig = plt.figure(figsize=[9,5], facecolor='black', layout='constrained')\n",
    "fig.suptitle('Station Code Origin', color='white', fontweight='bold', fontsize=16)\n",
    "fig1 = fig.subfigures(1, 1)\n",
    "\n",
    "fig1.set_facecolor('lightblue')\n",
    "fig1.suptitle('\\nStation Code GDL-049', color='#000040', fontweight='bold')\n",
    "ax1 = fig1.add_subplot()\n",
    "bar = ax1.bar('Split_duration','Count_duration', color='#000040', data=pd_plot)\n",
    "ax1.set_xlabel('Time', fontweight='bold', color='#000040')\n",
    "ax1.set_ylabel('Number of Trips', fontweight='bold', color='#000040')\n",
    "ax1.bar_label(bar)\n",
    "\n",
    "ax1.grid()"
   ],
   "metadata": {
    "collapsed": false,
    "ExecuteTime": {
     "end_time": "2024-06-10T19:31:19.673995100Z",
     "start_time": "2024-06-10T19:30:45.632643400Z"
    }
   },
   "id": "fdc477e5dbab2463",
   "execution_count": 56
  },
  {
   "cell_type": "markdown",
   "source": [
    "### 4. Напоследок посмотрим распределение количества поездок по неделям"
   ],
   "metadata": {
    "collapsed": false
   },
   "id": "22b7b3b0daa234ee"
  },
  {
   "cell_type": "code",
   "outputs": [],
   "source": [
    "data = data.withColumn('Week', F.weekofyear(F.col('Trip_start')))"
   ],
   "metadata": {
    "collapsed": false,
    "ExecuteTime": {
     "end_time": "2024-06-10T19:31:19.872555500Z",
     "start_time": "2024-06-10T19:31:19.687788200Z"
    }
   },
   "id": "4cf33c93c83df0fb",
   "execution_count": 57
  },
  {
   "cell_type": "code",
   "outputs": [],
   "source": [
    "# plot distributions\n",
    "pd_week = data.groupby('Week').agg(F.count(F.col('User_Id')).alias('Count')).toPandas()"
   ],
   "metadata": {
    "collapsed": false,
    "ExecuteTime": {
     "end_time": "2024-06-10T19:31:43.388888200Z",
     "start_time": "2024-06-10T19:31:19.713869400Z"
    }
   },
   "id": "618232333fb4b2a",
   "execution_count": 58
  },
  {
   "cell_type": "code",
   "outputs": [
    {
     "data": {
      "text/plain": "<Figure size 1100x600 with 1 Axes>",
      "image/png": "[encoded data removed]"
     },
     "metadata": {},
     "output_type": "display_data"
    }
   ],
   "source": [
    "sns.barplot(data=pd_week, x='Week', y='Count', width=1)\n",
    "plt.xticks([5, 15, 25, 35, 45])\n",
    "plt.show()"
   ],
   "metadata": {
    "collapsed": false,
    "ExecuteTime": {
     "end_time": "2024-06-10T19:31:43.859045100Z",
     "start_time": "2024-06-10T19:31:43.425253600Z"
    }
   },
   "id": "aef94bb58d5b35c4",
   "execution_count": 59
  },
  {
   "cell_type": "markdown",
   "source": [
    "### 5. Построим модель линейной регрессии для предказания времени поездки"
   ],
   "metadata": {
    "collapsed": false
   },
   "id": "b846675f442a7872"
  },
  {
   "cell_type": "code",
   "outputs": [],
   "source": [
    "# Переведем время поездки в удобный формат (минутный)\n",
    "\n",
    "data = data.withColumn('Duration_in_minutes',\n",
    "                       F.regexp_extract(F.col('Duration'), r'(\\d+) days', 1).cast('int') * 24 * 60 + \n",
    "                       F.regexp_extract(F.col('Duration'), r'(\\d+):(\\d+):(\\d+)', 1).cast('int') * 60 + \n",
    "                       F.regexp_extract(F.col('Duration'), r'(\\d+):(\\d+):(\\d+)', 2).cast('int') + \n",
    "                       F.regexp_extract(F.col('Duration'), r'(\\d+):(\\d+):(\\d+)', 3).cast('int') / 60)"
   ],
   "metadata": {
    "collapsed": false,
    "ExecuteTime": {
     "end_time": "2024-06-10T19:31:44.134698500Z",
     "start_time": "2024-06-10T19:31:43.864717600Z"
    }
   },
   "id": "e1f112502214351f",
   "execution_count": 60
  },
  {
   "cell_type": "code",
   "outputs": [],
   "source": [
    "# feature preprocessing\n",
    "string2indexer = StringIndexer(inputCol='Sex', outputCol='Sex_ind').fit(data)\n",
    "\n",
    "assembler = VectorAssembler(inputCols=['Sex_ind', 'Age'], outputCol='feature')\n",
    "\n",
    "data = assembler.transform(string2indexer.transform(data))"
   ],
   "metadata": {
    "collapsed": false,
    "ExecuteTime": {
     "end_time": "2024-06-10T19:32:09.647371Z",
     "start_time": "2024-06-10T19:31:45.693821800Z"
    }
   },
   "id": "df1bf8e6bc4fd2a5",
   "execution_count": 62
  },
  {
   "cell_type": "code",
   "outputs": [],
   "source": [
    "train, test = data.randomSplit([0.8, 0.2])"
   ],
   "metadata": {
    "collapsed": false,
    "ExecuteTime": {
     "end_time": "2024-06-10T19:32:09.728125100Z",
     "start_time": "2024-06-10T19:32:09.657883400Z"
    }
   },
   "id": "e035976fc5ec3610",
   "execution_count": 63
  },
  {
   "cell_type": "code",
   "outputs": [],
   "source": [
    "# linear model\n",
    "model = LinearRegression(featuresCol='feature', labelCol='Duration_in_minutes', predictionCol='predict').fit(train)"
   ],
   "metadata": {
    "collapsed": false,
    "ExecuteTime": {
     "end_time": "2024-06-10T19:38:02.331391100Z",
     "start_time": "2024-06-10T19:32:09.713913Z"
    }
   },
   "id": "c4597626267b0713",
   "execution_count": 64
  },
  {
   "cell_type": "code",
   "outputs": [
    {
     "name": "stdout",
     "output_type": "stream",
     "text": [
      "R2 -0.000\n"
     ]
    }
   ],
   "source": [
    "pred = model.transform(test)\n",
    "evaluator = RegressionEvaluator(labelCol=\"Duration_in_minutes\", predictionCol=\"predict\", metricName=\"r2\")\n",
    "r2 = evaluator.evaluate(pred)\n",
    "print(f\"R2 {r2:.3f}\")"
   ],
   "metadata": {
    "collapsed": false,
    "ExecuteTime": {
     "end_time": "2024-06-10T20:55:18.180475Z",
     "start_time": "2024-06-10T20:52:31.408460900Z"
    }
   },
   "id": "932e3edbe08dfdc",
   "execution_count": 69
  }
 ],
 "metadata": {
  "kernelspec": {
   "name": "bigdata",
   "language": "python",
   "display_name": "BigData"
  },
  "language_info": {
   "codemirror_mode": {
    "name": "ipython",
    "version": 2
   },
   "file_extension": ".py",
   "mimetype": "text/x-python",
   "name": "python",
   "nbconvert_exporter": "python",
   "pygments_lexer": "ipython2",
   "version": "2.7.6"
  }
 },
 "nbformat": 4,
 "nbformat_minor": 5
}
