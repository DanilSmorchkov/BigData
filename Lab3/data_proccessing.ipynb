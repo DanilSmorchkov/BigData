{
 "cells": [
  {
   "cell_type": "code",
   "execution_count": 1,
   "id": "initial_id",
   "metadata": {
    "collapsed": true,
    "ExecuteTime": {
     "end_time": "2024-06-26T14:45:42.980495500Z",
     "start_time": "2024-06-26T14:45:42.954550300Z"
    }
   },
   "outputs": [],
   "source": [
    "import findspark\n",
    "findspark.init()"
   ]
  },
  {
   "cell_type": "code",
   "outputs": [],
   "source": [
    "from pyspark.sql import SparkSession\n",
    "from pyspark.sql import functions as F\n",
    "from pyspark.sql import Window\n",
    "from pyspark.sql.functions import udf"
   ],
   "metadata": {
    "collapsed": false,
    "ExecuteTime": {
     "end_time": "2024-06-26T18:28:59.355753100Z",
     "start_time": "2024-06-26T18:28:59.336266Z"
    }
   },
   "id": "d57e9be9887a3960",
   "execution_count": 216
  },
  {
   "cell_type": "code",
   "outputs": [],
   "source": [
    "spark = SparkSession.builder.appName('Lab3').master('local[*]').getOrCreate()"
   ],
   "metadata": {
    "collapsed": false,
    "ExecuteTime": {
     "end_time": "2024-06-26T18:24:50.931193600Z",
     "start_time": "2024-06-26T18:24:50.905727300Z"
    }
   },
   "id": "274eef1f38a78327",
   "execution_count": 206
  },
  {
   "cell_type": "code",
   "outputs": [],
   "source": [
    "data = spark.read.csv('data.csv', header=True, inferSchema=True)"
   ],
   "metadata": {
    "collapsed": false,
    "ExecuteTime": {
     "end_time": "2024-06-26T18:24:51.362255100Z",
     "start_time": "2024-06-26T18:24:51.098538500Z"
    }
   },
   "id": "16b4e38ebf4c96f9",
   "execution_count": 207
  },
  {
   "cell_type": "code",
   "outputs": [
    {
     "name": "stdout",
     "output_type": "stream",
     "text": [
      "root\n",
      " |-- _c0: integer (nullable = true)\n",
      " |-- date: string (nullable = true)\n",
      " |-- file_name: string (nullable = true)\n",
      " |-- time: double (nullable = true)\n",
      " |-- target_is_broken: boolean (nullable = true)\n",
      " |-- location: string (nullable = true)\n"
     ]
    }
   ],
   "source": [
    "data.printSchema()"
   ],
   "metadata": {
    "collapsed": false,
    "ExecuteTime": {
     "end_time": "2024-06-26T18:24:51.482625700Z",
     "start_time": "2024-06-26T18:24:51.454413500Z"
    }
   },
   "id": "dd6188727272d225",
   "execution_count": 208
  },
  {
   "cell_type": "code",
   "outputs": [],
   "source": [
    "data = data.drop('_c0').where(F.col('location') != '0').sort(['date', 'file_name', 'time'])"
   ],
   "metadata": {
    "collapsed": false,
    "ExecuteTime": {
     "end_time": "2024-06-26T18:24:51.685341900Z",
     "start_time": "2024-06-26T18:24:51.615854400Z"
    }
   },
   "id": "662ffd296952941f",
   "execution_count": 209
  },
  {
   "cell_type": "code",
   "outputs": [],
   "source": [
    "windowSpec = Window.partitionBy(\"date\", \"file_name\").orderBy(\"time\")\n",
    "\n",
    "data = (data\n",
    "    .withColumn('group_row', F.row_number().over(Window.partitionBy(\"date\", \"file_name\").orderBy('time')))\n",
    "    .withColumn('max_group', F.max('group_row').over(Window.partitionBy(\"date\", \"file_name\")))\n",
    "    .withColumn('is_window_last', F\n",
    "        .when(F.col('max_group') == F.col('group_row'), 'Last')\n",
    "        .otherwise('Not Last')\n",
    "    )\n",
    " )"
   ],
   "metadata": {
    "collapsed": false,
    "ExecuteTime": {
     "end_time": "2024-06-26T18:24:51.965897Z",
     "start_time": "2024-06-26T18:24:51.866961Z"
    }
   },
   "id": "5c2fccf39dca0f34",
   "execution_count": 210
  },
  {
   "cell_type": "code",
   "outputs": [],
   "source": [
    "data = data.where(F.col('is_window_last') == 'Last')"
   ],
   "metadata": {
    "collapsed": false,
    "ExecuteTime": {
     "end_time": "2024-06-26T18:24:52.279582800Z",
     "start_time": "2024-06-26T18:24:52.243619Z"
    }
   },
   "id": "dc49610c9252f7cc",
   "execution_count": 211
  },
  {
   "cell_type": "code",
   "outputs": [
    {
     "name": "stdout",
     "output_type": "stream",
     "text": [
      "+----------+---------+----+----------------+--------------------+---------+---------+--------------+\n",
      "|      date|file_name|time|target_is_broken|            location|group_row|max_group|is_window_last|\n",
      "+----------+---------+----+----------------+--------------------+---------+---------+--------------+\n",
      "|02-01-2024| SHOT0001| 4.5|           false|(1650.380859375, ...|       10|       10|          Last|\n",
      "|02-01-2024| SHOT0002| 4.5|            true|(1973.966796875, ...|        9|        9|          Last|\n",
      "|02-01-2024| SHOT0003| 5.0|           false|(2349.24169921875...|       10|       10|          Last|\n",
      "|02-01-2024| SHOT0004| 4.5|            true|(1035.806640625, ...|        8|        8|          Last|\n",
      "|02-01-2024| SHOT0005| 4.5|           false|(1653.04028320312...|        9|        9|          Last|\n",
      "|02-01-2024| SHOT0006| 4.0|            true|(1364.68627929687...|        8|        8|          Last|\n",
      "|02-01-2024| SHOT0007|13.0|           false|(1287.18823242187...|       21|       21|          Last|\n",
      "|02-01-2024| SHOT0008|11.5|            true|(1557.291015625, ...|       20|       20|          Last|\n",
      "|02-01-2024| SHOT0009|13.0|            true|(1229.05200195312...|       26|       26|          Last|\n",
      "|02-01-2024| SHOT0010|12.0|           false|(1754.94970703125...|       20|       20|          Last|\n",
      "+----------+---------+----+----------------+--------------------+---------+---------+--------------+\n"
     ]
    }
   ],
   "source": [
    "data.show(n=10)"
   ],
   "metadata": {
    "collapsed": false,
    "ExecuteTime": {
     "end_time": "2024-06-26T18:24:53.963458800Z",
     "start_time": "2024-06-26T18:24:52.566896600Z"
    }
   },
   "id": "973c8b2509f57324",
   "execution_count": 212
  },
  {
   "cell_type": "code",
   "outputs": [
    {
     "name": "stdout",
     "output_type": "stream",
     "text": [
      "+----------------+-----------------------+\n",
      "|target_is_broken|max_consecutive_repeats|\n",
      "+----------------+-----------------------+\n",
      "|            true|                     10|\n",
      "+----------------+-----------------------+\n"
     ]
    }
   ],
   "source": [
    "# Определяем оконную функцию\n",
    "window_spec = Window.partitionBy('date').orderBy('file_name')\n",
    "\n",
    "# Добавляем столбец с предыдущими значениями\n",
    "df = data.withColumn(\"prev_value\", F.lag(\"target_is_broken\", 1).over(window_spec))\n",
    "\n",
    "# Определяем, где значения идут подряд\n",
    "df = df.withColumn(\"is_consecutive\", F.when(F.col(\"target_is_broken\") == F.col(\"prev_value\"), 1).otherwise(0))\n",
    "\n",
    "# Определяем группы подряд идущих значений\n",
    "df = df.withColumn(\"group\", F.sum(\"is_consecutive\").over(Window.partitionBy('date').orderBy('file_name').rowsBetween(Window.unboundedPreceding, 2)))\n",
    "\n",
    "# Считаем размер каждой группы\n",
    "df = df.groupBy(\"target_is_broken\", \"group\").count()\n",
    "\n",
    "# Находим максимальный размер группы\n",
    "max_consecutive_repeats = df.groupBy(\"target_is_broken\").agg(F.max(\"count\").alias(\"max_consecutive_repeats\"))\n",
    "\n",
    "# Показываем результат\n",
    "max_consecutive_repeats.where(F.col('target_is_broken') == True).show()"
   ],
   "metadata": {
    "collapsed": false,
    "ExecuteTime": {
     "end_time": "2024-06-26T18:22:30.734255100Z",
     "start_time": "2024-06-26T18:22:29.251477100Z"
    }
   },
   "id": "50aa2870e1abdf2a",
   "execution_count": 203
  },
  {
   "cell_type": "markdown",
   "source": [
    "### Теперь с помощью pandas"
   ],
   "metadata": {
    "collapsed": false
   },
   "id": "cc6dee478cb7abec"
  },
  {
   "cell_type": "code",
   "outputs": [],
   "source": [
    "import pandas as pd"
   ],
   "metadata": {
    "collapsed": false,
    "ExecuteTime": {
     "end_time": "2024-06-26T20:25:45.203595700Z",
     "start_time": "2024-06-26T20:25:45.140910200Z"
    }
   },
   "id": "3b8a686062aeec99",
   "execution_count": 220
  },
  {
   "cell_type": "code",
   "outputs": [],
   "source": [
    "data = pd.read_csv('data.csv').sort_values(by=['date', 'file_name', 'time'])"
   ],
   "metadata": {
    "collapsed": false,
    "ExecuteTime": {
     "end_time": "2024-06-26T20:25:45.664066500Z",
     "start_time": "2024-06-26T20:25:45.422038Z"
    }
   },
   "id": "27d2086b6fc89e81",
   "execution_count": 221
  },
  {
   "cell_type": "code",
   "outputs": [
    {
     "data": {
      "text/plain": "array(['02-01-2024', '02-07-2024', '02-18-2024', '02-21-2024',\n       '03-01-2024', '03-07-2024', '03-14-2024', '03-24-2024',\n       '03-28-2024'], dtype=object)"
     },
     "execution_count": 222,
     "metadata": {},
     "output_type": "execute_result"
    }
   ],
   "source": [
    "data.date.unique()"
   ],
   "metadata": {
    "collapsed": false,
    "ExecuteTime": {
     "end_time": "2024-06-26T20:25:45.667468800Z",
     "start_time": "2024-06-26T20:25:45.611716Z"
    }
   },
   "id": "ca63dd39d76ec51f",
   "execution_count": 222
  },
  {
   "cell_type": "code",
   "outputs": [],
   "source": [
    "data_ = data[data.location != '0']"
   ],
   "metadata": {
    "collapsed": false,
    "ExecuteTime": {
     "end_time": "2024-06-26T20:25:45.775594600Z",
     "start_time": "2024-06-26T20:25:45.659644Z"
    }
   },
   "id": "43a7831dc56c959f",
   "execution_count": 223
  },
  {
   "cell_type": "code",
   "outputs": [],
   "source": [
    "d = data_.groupby(by=['date', 'file_name']).tail(1).reset_index()"
   ],
   "metadata": {
    "collapsed": false,
    "ExecuteTime": {
     "end_time": "2024-06-26T20:25:46.001436300Z",
     "start_time": "2024-06-26T20:25:45.955974600Z"
    }
   },
   "id": "dc204657dbbb33b",
   "execution_count": 224
  },
  {
   "cell_type": "code",
   "outputs": [
    {
     "name": "stdout",
     "output_type": "stream",
     "text": [
      "Максимальное количество попаданий без промахов 8 на момент 02-01-2024\n",
      "Максимальное количество попаданий без промахов 6 на момент 02-07-2024\n",
      "Максимальное количество попаданий без промахов 9 на момент 02-18-2024\n",
      "Максимальное количество попаданий без промахов 6 на момент 02-21-2024\n",
      "Максимальное количество попаданий без промахов 4 на момент 03-01-2024\n",
      "Максимальное количество попаданий без промахов 3 на момент 03-07-2024\n",
      "Максимальное количество попаданий без промахов 1 на момент 03-14-2024\n",
      "Максимальное количество попаданий без промахов 7 на момент 03-24-2024\n",
      "Максимальное количество попаданий без промахов 10 на момент 03-28-2024\n"
     ]
    }
   ],
   "source": [
    "# Функция для нахождения максимального количества повторяющихся подряд значений\n",
    "def max_consecutive_repeats(series):\n",
    "    max_count = count = 1\n",
    "    for i in range(1, len(series)):\n",
    "        if series[i] == series[i - 1] == True:\n",
    "            count += 1\n",
    "        else:\n",
    "            max_count = max(max_count, count)\n",
    "            count = 1\n",
    "    return max(max_count, count)\n",
    "\n",
    "\n",
    "# Применяем функцию к нужному столбцу\n",
    "for date in d.date.unique():\n",
    "    max_repeats = max_consecutive_repeats(d[d.date == date].target_is_broken.reset_index(drop=True))\n",
    "\n",
    "    print(f'Максимальное количество попаданий без промахов {max_repeats} на момент {date}')\n"
   ],
   "metadata": {
    "collapsed": false,
    "ExecuteTime": {
     "end_time": "2024-06-26T20:28:23.972176700Z",
     "start_time": "2024-06-26T20:28:23.907176100Z"
    }
   },
   "id": "d45a36c33e8f6b02",
   "execution_count": 228
  }
 ],
 "metadata": {
  "kernelspec": {
   "display_name": "Python 3",
   "language": "python",
   "name": "python3"
  },
  "language_info": {
   "codemirror_mode": {
    "name": "ipython",
    "version": 2
   },
   "file_extension": ".py",
   "mimetype": "text/x-python",
   "name": "python",
   "nbconvert_exporter": "python",
   "pygments_lexer": "ipython2",
   "version": "2.7.6"
  }
 },
 "nbformat": 4,
 "nbformat_minor": 5
}
